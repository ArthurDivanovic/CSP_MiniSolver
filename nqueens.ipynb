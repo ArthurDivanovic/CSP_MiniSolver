{
 "cells": [
  {
   "cell_type": "markdown",
   "metadata": {},
   "source": [
    "## 0. Imports"
   ]
  },
  {
   "cell_type": "code",
   "execution_count": 13,
   "metadata": {},
   "outputs": [
    {
     "data": {
      "text/plain": [
       "knapsack (generic function with 1 method)"
      ]
     },
     "metadata": {},
     "output_type": "display_data"
    }
   ],
   "source": [
    "include(\"src/main.jl\")"
   ]
  },
  {
   "cell_type": "markdown",
   "metadata": {},
   "source": [
    "## 1. Instance"
   ]
  },
  {
   "cell_type": "code",
   "execution_count": 14,
   "metadata": {},
   "outputs": [
    {
     "data": {
      "text/plain": [
       "10"
      ]
     },
     "metadata": {},
     "output_type": "display_data"
    }
   ],
   "source": [
    "n = 10"
   ]
  },
  {
   "cell_type": "markdown",
   "metadata": {},
   "source": [
    "## 2. Parsing and model construction"
   ]
  },
  {
   "cell_type": "code",
   "execution_count": 15,
   "metadata": {},
   "outputs": [
    {
     "data": {
      "text/plain": [
       "Model(Dict{String, Variable}(\"x[10]\" => Variable(\"x[10]\", Domain([1, 2, 3, 4, 5, 6, 7, 8, 9, 10], 0, [1, 2, 3, 4, 5, 6, 7, 8, 9, 10], State{Int64}(10), Tree(Node(Stack{AbstractNodeValue}(Deque [AbstractNodeValue[]])), Stack{Node}(Deque [Node[]]))), State{Bool}(false), Tree(Node(Stack{AbstractNodeValue}(Deque [AbstractNodeValue[]])), Stack{Node}(Deque [Node[]]))), \"x[4]\" => Variable(\"x[4]\", Domain([1, 2, 3, 4, 5, 6, 7, 8, 9, 10], 0, [1, 2, 3, 4, 5, 6, 7, 8, 9, 10], State{Int64}(10), Tree(Node(Stack{AbstractNodeValue}(Deque [AbstractNodeValue[]])), Stack{Node}(Deque [Node[]]))), State{Bool}(false), Tree(Node(Stack{AbstractNodeValue}(Deque [AbstractNodeValue[]])), Stack{Node}(Deque [Node[]]))), \"x[5]\" => Variable(\"x[5]\", Domain([1, 2, 3, 4, 5, 6, 7, 8, 9, 10], 0, [1, 2, 3, 4, 5, 6, 7, 8, 9, 10], State{Int64}(10), Tree(Node(Stack{AbstractNodeValue}(Deque [AbstractNodeValue[]])), Stack{Node}(Deque [Node[]]))), State{Bool}(false), Tree(Node(Stack{AbstractNodeValue}(Deque [AbstractNodeValue[]])), Stack{Node}(Deque [Node[]]))), \"x[3]\" => Variable(\"x[3]\", Domain([1, 2, 3, 4, 5, 6, 7, 8, 9, 10], 0, [1, 2, 3, 4, 5, 6, 7, 8, 9, 10], State{Int64}(10), Tree(Node(Stack{AbstractNodeValue}(Deque [AbstractNodeValue[]])), Stack{Node}(Deque [Node[]]))), State{Bool}(false), Tree(Node(Stack{AbstractNodeValue}(Deque [AbstractNodeValue[]])), Stack{Node}(Deque [Node[]]))), \"x[2]\" => Variable(\"x[2]\", Domain([1, 2, 3, 4, 5, 6, 7, 8, 9, 10], 0, [1, 2, 3, 4, 5, 6, 7, 8, 9, 10], State{Int64}(10), Tree(Node(Stack{AbstractNodeValue}(Deque [AbstractNodeValue[]])), Stack{Node}(Deque [Node[]]))), State{Bool}(false), Tree(Node(Stack{AbstractNodeValue}(Deque [AbstractNodeValue[]])), Stack{Node}(Deque [Node[]]))), \"x[7]\" => Variable(\"x[7]\", Domain([1, 2, 3, 4, 5, 6, 7, 8, 9, 10], 0, [1, 2, 3, 4, 5, 6, 7, 8, 9, 10], State{Int64}(10), Tree(Node(Stack{AbstractNodeValue}(Deque [AbstractNodeValue[]])), Stack{Node}(Deque [Node[]]))), State{Bool}(false), Tree(Node(Stack{AbstractNodeValue}(Deque [AbstractNodeValue[]])), Stack{Node}(Deque [Node[]]))), \"x[8]\" => Variable(\"x[8]\", Domain([1, 2, 3, 4, 5, 6, 7, 8, 9, 10], 0, [1, 2, 3, 4, 5, 6, 7, 8, 9, 10], State{Int64}(10), Tree(Node(Stack{AbstractNodeValue}(Deque [AbstractNodeValue[]])), Stack{Node}(Deque [Node[]]))), State{Bool}(false), Tree(Node(Stack{AbstractNodeValue}(Deque [AbstractNodeValue[]])), Stack{Node}(Deque [Node[]]))), \"x[1]\" => Variable(\"x[1]\", Domain([1, 2, 3, 4, 5, 6, 7, 8, 9, 10], 0, [1, 2, 3, 4, 5, 6, 7, 8, 9, 10], State{Int64}(10), Tree(Node(Stack{AbstractNodeValue}(Deque [AbstractNodeValue[]])), Stack{Node}(Deque [Node[]]))), State{Bool}(false), Tree(Node(Stack{AbstractNodeValue}(Deque [AbstractNodeValue[]])), Stack{Node}(Deque [Node[]]))), \"x[9]\" => Variable(\"x[9]\", Domain([1, 2, 3, 4, 5, 6, 7, 8, 9, 10], 0, [1, 2, 3, 4, 5, 6, 7, 8, 9, 10], State{Int64}(10), Tree(Node(Stack{AbstractNodeValue}(Deque [AbstractNodeValue[]])), Stack{Node}(Deque [Node[]]))), State{Bool}(false), Tree(Node(Stack{AbstractNodeValue}(Deque [AbstractNodeValue[]])), Stack{Node}(Deque [Node[]]))), \"x[6]\" => Variable(\"x[6]\", Domain([1, 2, 3, 4, 5, 6, 7, 8, 9, 10], 0, [1, 2, 3, 4, 5, 6, 7, 8, 9, 10], State{Int64}(10), Tree(Node(Stack{AbstractNodeValue}(Deque [AbstractNodeValue[]])), Stack{Node}(Deque [Node[]]))), State{Bool}(false), Tree(Node(Stack{AbstractNodeValue}(Deque [AbstractNodeValue[]])), Stack{Node}(Deque [Node[]])))…), AbstractConstraint[ConstraintMatrix(Variable(\"x[1]\", Domain([1, 2, 3, 4, 5, 6, 7, 8, 9, 10], 0, [1, 2, 3, 4, 5, 6, 7, 8, 9, 10], State{Int64}(10), Tree(Node(Stack{AbstractNodeValue}(Deque [AbstractNodeValue[]])), Stack{Node}(Deque [Node[]]))), State{Bool}(false), Tree(Node(Stack{AbstractNodeValue}(Deque [AbstractNodeValue[]])), Stack{Node}(Deque [Node[]]))), Variable(\"x[2]\", Domain([1, 2, 3, 4, 5, 6, 7, 8, 9, 10], 0, [1, 2, 3, 4, 5, 6, 7, 8, 9, 10], State{Int64}(10), Tree(Node(Stack{AbstractNodeValue}(Deque [AbstractNodeValue[]])), Stack{Node}(Deque [Node[]]))), State{Bool}(false), Tree(Node(Stack{AbstractNodeValue}(Deque [AbstractNodeValue[]])), Stack{Node}(Deque [Node[]]))), Bool[0 1 … 1 1; 1 0 … 1 1; … ; 1 1 … 0 1; 1 1 … 1 0]), ConstraintMatrix(Variable(\"x[2]\", Domain([1, 2, 3, 4, 5, 6, 7, 8, 9, 10], 0, [1, 2, 3, 4, 5, 6, 7, 8, 9, 10], State{Int64}(10), Tree(Node(Stack{AbstractNodeValue}(Deque [AbstractNodeValue[]])), Stack{Node}(Deque [Node[]]))), State{Bool}(false), Tree(Node(Stack{AbstractNodeValue}(Deque [AbstractNodeValue[]])), Stack{Node}(Deque [Node[]]))), Variable(\"x[1]\", Domain([1, 2, 3, 4, 5, 6, 7, 8, 9, 10], 0, [1, 2, 3, 4, 5, 6, 7, 8, 9, 10], State{Int64}(10), Tree(Node(Stack{AbstractNodeValue}(Deque [AbstractNodeValue[]])), Stack{Node}(Deque [Node[]]))), State{Bool}(false), Tree(Node(Stack{AbstractNodeValue}(Deque [AbstractNodeValue[]])), Stack{Node}(Deque [Node[]]))), Bool[0 1 … 1 1; 1 0 … 1 1; … ; 1 1 … 0 1; 1 1 … 1 0]), ConstraintMatrix(Variable(\"x[1]\", Domain([1, 2, 3, 4, 5, 6, 7, 8, 9, 10], 0, [1, 2, 3, 4, 5, 6, 7, 8, 9, 10], State{Int64}(10), Tree(Node(Stack{AbstractNodeValue}(Deque [AbstractNodeValue[]])), Stack{Node}(Deque [Node[]]))), State{Bool}(false), Tree(Node(Stack{AbstractNodeValue}(Deque [AbstractNodeValue[]])), Stack{Node}(Deque [Node[]]))), Variable(\"x[3]\", Domain([1, 2, 3, 4, 5, 6, 7, 8, 9, 10], 0, [1, 2, 3, 4, 5, 6, 7, 8, 9, 10], State{Int64}(10), Tree(Node(Stack{AbstractNodeValue}(Deque [AbstractNodeValue[]])), Stack{Node}(Deque [Node[]]))), State{Bool}(false), Tree(Node(Stack{AbstractNodeValue}(Deque [AbstractNodeValue[]])), Stack{Node}(Deque [Node[]]))), Bool[0 1 … 1 1; 1 0 … 1 1; … ; 1 1 … 0 1; 1 1 … 1 0]), ConstraintMatrix(Variable(\"x[3]\", Domain([1, 2, 3, 4, 5, 6, 7, 8, 9, 10], 0, [1, 2, 3, 4, 5, 6, 7, 8, 9, 10], State{Int64}(10), Tree(Node(Stack{AbstractNodeValue}(Deque [AbstractNodeValue[]])), Stack{Node}(Deque [Node[]]))), State{Bool}(false), Tree(Node(Stack{AbstractNodeValue}(Deque [AbstractNodeValue[]])), Stack{Node}(Deque [Node[]]))), Variable(\"x[1]\", Domain([1, 2, 3, 4, 5, 6, 7, 8, 9, 10], 0, [1, 2, 3, 4, 5, 6, 7, 8, 9, 10], State{Int64}(10), Tree(Node(Stack{AbstractNodeValue}(Deque [AbstractNodeValue[]])), Stack{Node}(Deque [Node[]]))), State{Bool}(false), Tree(Node(Stack{AbstractNodeValue}(Deque [AbstractNodeValue[]])), Stack{Node}(Deque [Node[]]))), Bool[0 1 … 1 1; 1 0 … 1 1; … ; 1 1 … 0 1; 1 1 … 1 0]), ConstraintMatrix(Variable(\"x[1]\", Domain([1, 2, 3, 4, 5, 6, 7, 8, 9, 10], 0, [1, 2, 3, 4, 5, 6, 7, 8, 9, 10], State{Int64}(10), Tree(Node(Stack{AbstractNodeValue}(Deque [AbstractNodeValue[]])), Stack{Node}(Deque [Node[]]))), State{Bool}(false), Tree(Node(Stack{AbstractNodeValue}(Deque [AbstractNodeValue[]])), Stack{Node}(Deque [Node[]]))), Variable(\"x[4]\", Domain([1, 2, 3, 4, 5, 6, 7, 8, 9, 10], 0, [1, 2, 3, 4, 5, 6, 7, 8, 9, 10], State{Int64}(10), Tree(Node(Stack{AbstractNodeValue}(Deque [AbstractNodeValue[]])), Stack{Node}(Deque [Node[]]))), State{Bool}(false), Tree(Node(Stack{AbstractNodeValue}(Deque [AbstractNodeValue[]])), Stack{Node}(Deque [Node[]]))), Bool[0 1 … 1 1; 1 0 … 1 1; … ; 1 1 … 0 1; 1 1 … 1 0]), ConstraintMatrix(Variable(\"x[4]\", Domain([1, 2, 3, 4, 5, 6, 7, 8, 9, 10], 0, [1, 2, 3, 4, 5, 6, 7, 8, 9, 10], State{Int64}(10), Tree(Node(Stack{AbstractNodeValue}(Deque [AbstractNodeValue[]])), Stack{Node}(Deque [Node[]]))), State{Bool}(false), Tree(Node(Stack{AbstractNodeValue}(Deque [AbstractNodeValue[]])), Stack{Node}(Deque [Node[]]))), Variable(\"x[1]\", Domain([1, 2, 3, 4, 5, 6, 7, 8, 9, 10], 0, [1, 2, 3, 4, 5, 6, 7, 8, 9, 10], State{Int64}(10), Tree(Node(Stack{AbstractNodeValue}(Deque [AbstractNodeValue[]])), Stack{Node}(Deque [Node[]]))), State{Bool}(false), Tree(Node(Stack{AbstractNodeValue}(Deque [AbstractNodeValue[]])), Stack{Node}(Deque [Node[]]))), Bool[0 1 … 1 1; 1 0 … 1 1; … ; 1 1 … 0 1; 1 1 … 1 0]), ConstraintMatrix(Variable(\"x[1]\", Domain([1, 2, 3, 4, 5, 6, 7, 8, 9, 10], 0, [1, 2, 3, 4, 5, 6, 7, 8, 9, 10], State{Int64}(10), Tree(Node(Stack{AbstractNodeValue}(Deque [AbstractNodeValue[]])), Stack{Node}(Deque [Node[]]))), State{Bool}(false), Tree(Node(Stack{AbstractNodeValue}(Deque [AbstractNodeValue[]])), Stack{Node}(Deque [Node[]]))), Variable(\"x[5]\", Domain([1, 2, 3, 4, 5, 6, 7, 8, 9, 10], 0, [1, 2, 3, 4, 5, 6, 7, 8, 9, 10], State{Int64}(10), Tree(Node(Stack{AbstractNodeValue}(Deque [AbstractNodeValue[]])), Stack{Node}(Deque [Node[]]))), State{Bool}(false), Tree(Node(Stack{AbstractNodeValue}(Deque [AbstractNodeValue[]])), Stack{Node}(Deque [Node[]]))), Bool[0 1 … 1 1; 1 0 … 1 1; … ; 1 1 … 0 1; 1 1 … 1 0]), ConstraintMatrix(Variable(\"x[5]\", Domain([1, 2, 3, 4, 5, 6, 7, 8, 9, 10], 0, [1, 2, 3, 4, 5, 6, 7, 8, 9, 10], State{Int64}(10), Tree(Node(Stack{AbstractNodeValue}(Deque [AbstractNodeValue[]])), Stack{Node}(Deque [Node[]]))), State{Bool}(false), Tree(Node(Stack{AbstractNodeValue}(Deque [AbstractNodeValue[]])), Stack{Node}(Deque [Node[]]))), Variable(\"x[1]\", Domain([1, 2, 3, 4, 5, 6, 7, 8, 9, 10], 0, [1, 2, 3, 4, 5, 6, 7, 8, 9, 10], State{Int64}(10), Tree(Node(Stack{AbstractNodeValue}(Deque [AbstractNodeValue[]])), Stack{Node}(Deque [Node[]]))), State{Bool}(false), Tree(Node(Stack{AbstractNodeValue}(Deque [AbstractNodeValue[]])), Stack{Node}(Deque [Node[]]))), Bool[0 1 … 1 1; 1 0 … 1 1; … ; 1 1 … 0 1; 1 1 … 1 0]), ConstraintMatrix(Variable(\"x[1]\", Domain([1, 2, 3, 4, 5, 6, 7, 8, 9, 10], 0, [1, 2, 3, 4, 5, 6, 7, 8, 9, 10], State{Int64}(10), Tree(Node(Stack{AbstractNodeValue}(Deque [AbstractNodeValue[]])), Stack{Node}(Deque [Node[]]))), State{Bool}(false), Tree(Node(Stack{AbstractNodeValue}(Deque [AbstractNodeValue[]])), Stack{Node}(Deque [Node[]]))), Variable(\"x[6]\", Domain([1, 2, 3, 4, 5, 6, 7, 8, 9, 10], 0, [1, 2, 3, 4, 5, 6, 7, 8, 9, 10], State{Int64}(10), Tree(Node(Stack{AbstractNodeValue}(Deque [AbstractNodeValue[]])), Stack{Node}(Deque [Node[]]))), State{Bool}(false), Tree(Node(Stack{AbstractNodeValue}(Deque [AbstractNodeValue[]])), Stack{Node}(Deque [Node[]]))), Bool[0 1 … 1 1; 1 0 … 1 1; … ; 1 1 … 0 1; 1 1 … 1 0]), ConstraintMatrix(Variable(\"x[6]\", Domain([1, 2, 3, 4, 5, 6, 7, 8, 9, 10], 0, [1, 2, 3, 4, 5, 6, 7, 8, 9, 10], State{Int64}(10), Tree(Node(Stack{AbstractNodeValue}(Deque [AbstractNodeValue[]])), Stack{Node}(Deque [Node[]]))), State{Bool}(false), Tree(Node(Stack{AbstractNodeValue}(Deque [AbstractNodeValue[]])), Stack{Node}(Deque [Node[]]))), Variable(\"x[1]\", Domain([1, 2, 3, 4, 5, 6, 7, 8, 9, 10], 0, [1, 2, 3, 4, 5, 6, 7, 8, 9, 10], State{Int64}(10), Tree(Node(Stack{AbstractNodeValue}(Deque [AbstractNodeValue[]])), Stack{Node}(Deque [Node[]]))), State{Bool}(false), Tree(Node(Stack{AbstractNodeValue}(Deque [AbstractNodeValue[]])), Stack{Node}(Deque [Node[]]))), Bool[0 1 … 1 1; 1 0 … 1 1; … ; 1 1 … 0 1; 1 1 … 1 0])  …  ConstraintMatrix(Variable(\"x[8]\", Domain([1, 2, 3, 4, 5, 6, 7, 8, 9, 10], 0, [1, 2, 3, 4, 5, 6, 7, 8, 9, 10], State{Int64}(10), Tree(Node(Stack{AbstractNodeValue}(Deque [AbstractNodeValue[]])), Stack{Node}(Deque [Node[]]))), State{Bool}(false), Tree(Node(Stack{AbstractNodeValue}(Deque [AbstractNodeValue[]])), Stack{Node}(Deque [Node[]]))), Variable(\"x[9]\", Domain([1, 2, 3, 4, 5, 6, 7, 8, 9, 10], 0, [1, 2, 3, 4, 5, 6, 7, 8, 9, 10], State{Int64}(10), Tree(Node(Stack{AbstractNodeValue}(Deque [AbstractNodeValue[]])), Stack{Node}(Deque [Node[]]))), State{Bool}(false), Tree(Node(Stack{AbstractNodeValue}(Deque [AbstractNodeValue[]])), Stack{Node}(Deque [Node[]]))), Bool[1 0 … 1 1; 1 1 … 1 1; … ; 1 1 … 1 0; 1 1 … 1 1]), ConstraintMatrix(Variable(\"x[9]\", Domain([1, 2, 3, 4, 5, 6, 7, 8, 9, 10], 0, [1, 2, 3, 4, 5, 6, 7, 8, 9, 10], State{Int64}(10), Tree(Node(Stack{AbstractNodeValue}(Deque [AbstractNodeValue[]])), Stack{Node}(Deque [Node[]]))), State{Bool}(false), Tree(Node(Stack{AbstractNodeValue}(Deque [AbstractNodeValue[]])), Stack{Node}(Deque [Node[]]))), Variable(\"x[8]\", Domain([1, 2, 3, 4, 5, 6, 7, 8, 9, 10], 0, [1, 2, 3, 4, 5, 6, 7, 8, 9, 10], State{Int64}(10), Tree(Node(Stack{AbstractNodeValue}(Deque [AbstractNodeValue[]])), Stack{Node}(Deque [Node[]]))), State{Bool}(false), Tree(Node(Stack{AbstractNodeValue}(Deque [AbstractNodeValue[]])), Stack{Node}(Deque [Node[]]))), Bool[1 1 … 1 1; 0 1 … 1 1; … ; 1 1 … 1 1; 1 1 … 0 1]), ConstraintMatrix(Variable(\"x[8]\", Domain([1, 2, 3, 4, 5, 6, 7, 8, 9, 10], 0, [1, 2, 3, 4, 5, 6, 7, 8, 9, 10], State{Int64}(10), Tree(Node(Stack{AbstractNodeValue}(Deque [AbstractNodeValue[]])), Stack{Node}(Deque [Node[]]))), State{Bool}(false), Tree(Node(Stack{AbstractNodeValue}(Deque [AbstractNodeValue[]])), Stack{Node}(Deque [Node[]]))), Variable(\"x[10]\", Domain([1, 2, 3, 4, 5, 6, 7, 8, 9, 10], 0, [1, 2, 3, 4, 5, 6, 7, 8, 9, 10], State{Int64}(10), Tree(Node(Stack{AbstractNodeValue}(Deque [AbstractNodeValue[]])), Stack{Node}(Deque [Node[]]))), State{Bool}(false), Tree(Node(Stack{AbstractNodeValue}(Deque [AbstractNodeValue[]])), Stack{Node}(Deque [Node[]]))), Bool[1 1 … 1 1; 1 1 … 1 1; … ; 1 1 … 1 1; 1 1 … 1 1]), ConstraintMatrix(Variable(\"x[10]\", Domain([1, 2, 3, 4, 5, 6, 7, 8, 9, 10], 0, [1, 2, 3, 4, 5, 6, 7, 8, 9, 10], State{Int64}(10), Tree(Node(Stack{AbstractNodeValue}(Deque [AbstractNodeValue[]])), Stack{Node}(Deque [Node[]]))), State{Bool}(false), Tree(Node(Stack{AbstractNodeValue}(Deque [AbstractNodeValue[]])), Stack{Node}(Deque [Node[]]))), Variable(\"x[8]\", Domain([1, 2, 3, 4, 5, 6, 7, 8, 9, 10], 0, [1, 2, 3, 4, 5, 6, 7, 8, 9, 10], State{Int64}(10), Tree(Node(Stack{AbstractNodeValue}(Deque [AbstractNodeValue[]])), Stack{Node}(Deque [Node[]]))), State{Bool}(false), Tree(Node(Stack{AbstractNodeValue}(Deque [AbstractNodeValue[]])), Stack{Node}(Deque [Node[]]))), Bool[1 1 … 1 1; 1 1 … 1 1; … ; 1 1 … 1 1; 1 1 … 1 1]), ConstraintMatrix(Variable(\"x[8]\", Domain([1, 2, 3, 4, 5, 6, 7, 8, 9, 10], 0, [1, 2, 3, 4, 5, 6, 7, 8, 9, 10], State{Int64}(10), Tree(Node(Stack{AbstractNodeValue}(Deque [AbstractNodeValue[]])), Stack{Node}(Deque [Node[]]))), State{Bool}(false), Tree(Node(Stack{AbstractNodeValue}(Deque [AbstractNodeValue[]])), Stack{Node}(Deque [Node[]]))), Variable(\"x[10]\", Domain([1, 2, 3, 4, 5, 6, 7, 8, 9, 10], 0, [1, 2, 3, 4, 5, 6, 7, 8, 9, 10], State{Int64}(10), Tree(Node(Stack{AbstractNodeValue}(Deque [AbstractNodeValue[]])), Stack{Node}(Deque [Node[]]))), State{Bool}(false), Tree(Node(Stack{AbstractNodeValue}(Deque [AbstractNodeValue[]])), Stack{Node}(Deque [Node[]]))), Bool[1 1 … 1 1; 1 1 … 1 1; … ; 1 1 … 1 1; 1 1 … 1 1]), ConstraintMatrix(Variable(\"x[10]\", Domain([1, 2, 3, 4, 5, 6, 7, 8, 9, 10], 0, [1, 2, 3, 4, 5, 6, 7, 8, 9, 10], State{Int64}(10), Tree(Node(Stack{AbstractNodeValue}(Deque [AbstractNodeValue[]])), Stack{Node}(Deque [Node[]]))), State{Bool}(false), Tree(Node(Stack{AbstractNodeValue}(Deque [AbstractNodeValue[]])), Stack{Node}(Deque [Node[]]))), Variable(\"x[8]\", Domain([1, 2, 3, 4, 5, 6, 7, 8, 9, 10], 0, [1, 2, 3, 4, 5, 6, 7, 8, 9, 10], State{Int64}(10), Tree(Node(Stack{AbstractNodeValue}(Deque [AbstractNodeValue[]])), Stack{Node}(Deque [Node[]]))), State{Bool}(false), Tree(Node(Stack{AbstractNodeValue}(Deque [AbstractNodeValue[]])), Stack{Node}(Deque [Node[]]))), Bool[1 1 … 1 1; 1 1 … 1 1; … ; 1 1 … 1 1; 1 1 … 1 1]), ConstraintMatrix(Variable(\"x[9]\", Domain([1, 2, 3, 4, 5, 6, 7, 8, 9, 10], 0, [1, 2, 3, 4, 5, 6, 7, 8, 9, 10], State{Int64}(10), Tree(Node(Stack{AbstractNodeValue}(Deque [AbstractNodeValue[]])), Stack{Node}(Deque [Node[]]))), State{Bool}(false), Tree(Node(Stack{AbstractNodeValue}(Deque [AbstractNodeValue[]])), Stack{Node}(Deque [Node[]]))), Variable(\"x[10]\", Domain([1, 2, 3, 4, 5, 6, 7, 8, 9, 10], 0, [1, 2, 3, 4, 5, 6, 7, 8, 9, 10], State{Int64}(10), Tree(Node(Stack{AbstractNodeValue}(Deque [AbstractNodeValue[]])), Stack{Node}(Deque [Node[]]))), State{Bool}(false), Tree(Node(Stack{AbstractNodeValue}(Deque [AbstractNodeValue[]])), Stack{Node}(Deque [Node[]]))), Bool[1 1 … 1 1; 0 1 … 1 1; … ; 1 1 … 1 1; 1 1 … 0 1]), ConstraintMatrix(Variable(\"x[10]\", Domain([1, 2, 3, 4, 5, 6, 7, 8, 9, 10], 0, [1, 2, 3, 4, 5, 6, 7, 8, 9, 10], State{Int64}(10), Tree(Node(Stack{AbstractNodeValue}(Deque [AbstractNodeValue[]])), Stack{Node}(Deque [Node[]]))), State{Bool}(false), Tree(Node(Stack{AbstractNodeValue}(Deque [AbstractNodeValue[]])), Stack{Node}(Deque [Node[]]))), Variable(\"x[9]\", Domain([1, 2, 3, 4, 5, 6, 7, 8, 9, 10], 0, [1, 2, 3, 4, 5, 6, 7, 8, 9, 10], State{Int64}(10), Tree(Node(Stack{AbstractNodeValue}(Deque [AbstractNodeValue[]])), Stack{Node}(Deque [Node[]]))), State{Bool}(false), Tree(Node(Stack{AbstractNodeValue}(Deque [AbstractNodeValue[]])), Stack{Node}(Deque [Node[]]))), Bool[1 0 … 1 1; 1 1 … 1 1; … ; 1 1 … 1 0; 1 1 … 1 1]), ConstraintMatrix(Variable(\"x[9]\", Domain([1, 2, 3, 4, 5, 6, 7, 8, 9, 10], 0, [1, 2, 3, 4, 5, 6, 7, 8, 9, 10], State{Int64}(10), Tree(Node(Stack{AbstractNodeValue}(Deque [AbstractNodeValue[]])), Stack{Node}(Deque [Node[]]))), State{Bool}(false), Tree(Node(Stack{AbstractNodeValue}(Deque [AbstractNodeValue[]])), Stack{Node}(Deque [Node[]]))), Variable(\"x[10]\", Domain([1, 2, 3, 4, 5, 6, 7, 8, 9, 10], 0, [1, 2, 3, 4, 5, 6, 7, 8, 9, 10], State{Int64}(10), Tree(Node(Stack{AbstractNodeValue}(Deque [AbstractNodeValue[]])), Stack{Node}(Deque [Node[]]))), State{Bool}(false), Tree(Node(Stack{AbstractNodeValue}(Deque [AbstractNodeValue[]])), Stack{Node}(Deque [Node[]]))), Bool[1 0 … 1 1; 1 1 … 1 1; … ; 1 1 … 1 0; 1 1 … 1 1]), ConstraintMatrix(Variable(\"x[10]\", Domain([1, 2, 3, 4, 5, 6, 7, 8, 9, 10], 0, [1, 2, 3, 4, 5, 6, 7, 8, 9, 10], State{Int64}(10), Tree(Node(Stack{AbstractNodeValue}(Deque [AbstractNodeValue[]])), Stack{Node}(Deque [Node[]]))), State{Bool}(false), Tree(Node(Stack{AbstractNodeValue}(Deque [AbstractNodeValue[]])), Stack{Node}(Deque [Node[]]))), Variable(\"x[9]\", Domain([1, 2, 3, 4, 5, 6, 7, 8, 9, 10], 0, [1, 2, 3, 4, 5, 6, 7, 8, 9, 10], State{Int64}(10), Tree(Node(Stack{AbstractNodeValue}(Deque [AbstractNodeValue[]])), Stack{Node}(Deque [Node[]]))), State{Bool}(false), Tree(Node(Stack{AbstractNodeValue}(Deque [AbstractNodeValue[]])), Stack{Node}(Deque [Node[]]))), Bool[1 1 … 1 1; 0 1 … 1 1; … ; 1 1 … 1 1; 1 1 … 0 1])], nothing, Tree(Node(Stack{AbstractNodeValue}(Deque [AbstractNodeValue[]])), Stack{Node}(Deque [Node[]])))"
      ]
     },
     "metadata": {},
     "output_type": "display_data"
    }
   ],
   "source": [
    "ConstraintType = ConstraintMatrix\n",
    "model = nQueens(n, ConstraintType)"
   ]
  },
  {
   "cell_type": "markdown",
   "metadata": {},
   "source": [
    "## 3. Search strategies"
   ]
  },
  {
   "cell_type": "code",
   "execution_count": 16,
   "metadata": {},
   "outputs": [
    {
     "data": {
      "text/plain": [
       "ForwardChecking()"
      ]
     },
     "metadata": {},
     "output_type": "display_data"
    }
   ],
   "source": [
    "variableSelection = MinDomainVariableSelection()\n",
    "valueSelection = MinDomainValueSelection()\n",
    "AC = nothing\n",
    "FC = ForwardChecking()"
   ]
  },
  {
   "cell_type": "markdown",
   "metadata": {},
   "source": [
    "## 4. Launch search"
   ]
  },
  {
   "cell_type": "code",
   "execution_count": 17,
   "metadata": {},
   "outputs": [
    {
     "data": {
      "text/plain": [
       ":SolutionFound"
      ]
     },
     "metadata": {},
     "output_type": "display_data"
    }
   ],
   "source": [
    "search!(model, variableSelection, valueSelection, AC, FC)"
   ]
  },
  {
   "cell_type": "markdown",
   "metadata": {},
   "source": [
    "## 5. Display Solution"
   ]
  },
  {
   "cell_type": "code",
   "execution_count": 18,
   "metadata": {},
   "outputs": [
    {
     "data": {
      "text/plain": [
       "10-element Vector{Int64}:\n",
       "  6\n",
       "  8\n",
       "  5\n",
       "  2\n",
       "  4\n",
       " 10\n",
       "  7\n",
       "  9\n",
       "  3\n",
       "  1"
      ]
     },
     "metadata": {},
     "output_type": "display_data"
    }
   ],
   "source": [
    "solution = getSolutionVector(model)"
   ]
  }
 ],
 "metadata": {
  "kernelspec": {
   "display_name": "Julia 1.9.4",
   "language": "julia",
   "name": "julia-1.9"
  },
  "language_info": {
   "file_extension": ".jl",
   "mimetype": "application/julia",
   "name": "julia",
   "version": "1.9.4"
  }
 },
 "nbformat": 4,
 "nbformat_minor": 2
}
