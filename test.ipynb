{
 "cells": [
  {
   "cell_type": "code",
   "execution_count": 33,
   "metadata": {},
   "outputs": [
    {
     "data": {
      "text/plain": [
       "knapsack (generic function with 1 method)"
      ]
     },
     "metadata": {},
     "output_type": "display_data"
    }
   ],
   "source": [
    "include(\"src/main.jl\")"
   ]
  },
  {
   "cell_type": "code",
   "execution_count": 40,
   "metadata": {},
   "outputs": [
    {
     "data": {
      "text/plain": [
       "ForwardChecking()"
      ]
     },
     "metadata": {},
     "output_type": "display_data"
    }
   ],
   "source": [
    "tree = Tree()\n",
    "model = Model(tree)\n",
    "\n",
    "x = Variable(\"x\", 1, 4, tree)\n",
    "y = Variable(\"y\", 3, 5, tree)\n",
    "z = Variable(\"z\", 2, 8, tree)\n",
    "\n",
    "C1 = NotEqual(x, y, ConstraintMatrix)\n",
    "C2 = Equal(x, z, ConstraintMatrix)\n",
    "\n",
    "addVariable!(model, [x,y,z])\n",
    "addConstraint!(model, C1)\n",
    "addConstraint!(model, C2)\n",
    "\n",
    "variableSelection = MinDomainVariableSelection()\n",
    "valueSelection = MinDomainValueSelection()\n",
    "AC = AC3()\n",
    "FC = ForwardChecking()\n"
   ]
  },
  {
   "cell_type": "code",
   "execution_count": 41,
   "metadata": {},
   "outputs": [
    {
     "data": {
      "text/plain": [
       ":SolutionFound"
      ]
     },
     "metadata": {},
     "output_type": "display_data"
    }
   ],
   "source": [
    "search!(model, variableSelection, valueSelection, AC, FC)"
   ]
  },
  {
   "cell_type": "code",
   "execution_count": 42,
   "metadata": {},
   "outputs": [
    {
     "name": "stdout",
     "output_type": "stream",
     "text": [
      "x = 2\n",
      "z = 2\n",
      "y = 3\n"
     ]
    }
   ],
   "source": [
    "displaySolution(model)"
   ]
  }
 ],
 "metadata": {
  "kernelspec": {
   "display_name": "Julia 1.9.3",
   "language": "julia",
   "name": "julia-1.9"
  },
  "language_info": {
   "file_extension": ".jl",
   "mimetype": "application/julia",
   "name": "julia",
   "version": "1.9.3"
  }
 },
 "nbformat": 4,
 "nbformat_minor": 2
}
