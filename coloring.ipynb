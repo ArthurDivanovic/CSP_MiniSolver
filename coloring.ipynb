{
 "cells": [
  {
   "cell_type": "markdown",
   "metadata": {},
   "source": [
    "## 0. Imports"
   ]
  },
  {
   "cell_type": "code",
   "execution_count": 33,
   "metadata": {},
   "outputs": [
    {
     "data": {
      "text/plain": [
       "knapsack (generic function with 1 method)"
      ]
     },
     "metadata": {},
     "output_type": "display_data"
    }
   ],
   "source": [
    "include(\"src/main.jl\")"
   ]
  },
  {
   "cell_type": "markdown",
   "metadata": {},
   "source": [
    "## 1. Instance"
   ]
  },
  {
   "cell_type": "code",
   "execution_count": 34,
   "metadata": {},
   "outputs": [
    {
     "data": {
      "text/plain": [
       "5"
      ]
     },
     "metadata": {},
     "output_type": "display_data"
    }
   ],
   "source": [
    "filepath = \"data/coloring/dsjc125.1.col.txt\"\n",
    "k = 5"
   ]
  },
  {
   "cell_type": "markdown",
   "metadata": {},
   "source": [
    "## 2. Parsing and model construction"
   ]
  },
  {
   "cell_type": "code",
   "execution_count": 35,
   "metadata": {},
   "outputs": [
    {
     "data": {
      "text/plain": [
       "Model(Dict{String, Variable}(\"c[121]\" => Variable(\"c[121]\", Domain([1, 2, 3, 4, 5], 0, [1, 2, 3, 4, 5], State{Int64}(5), Tree(Node(Stack{AbstractNodeValue}(Deque [AbstractNodeValue[]])), Stack{Node}(Deque [Node[]]))), State{Bool}(false), Tree(Node(Stack{AbstractNodeValue}(Deque [AbstractNodeValue[]])), Stack{Node}(Deque [Node[]]))), \"c[60]\" => Variable(\"c[60]\", Domain([1, 2, 3, 4, 5], 0, [1, 2, 3, 4, 5], State{Int64}(5), Tree(Node(Stack{AbstractNodeValue}(Deque [AbstractNodeValue[]])), Stack{Node}(Deque [Node[]]))), State{Bool}(false), Tree(Node(Stack{AbstractNodeValue}(Deque [AbstractNodeValue[]])), Stack{Node}(Deque [Node[]]))), \"c[90]\" => Variable(\"c[90]\", Domain([1, 2, 3, 4, 5], 0, [1, 2, 3, 4, 5], State{Int64}(5), Tree(Node(Stack{AbstractNodeValue}(Deque [AbstractNodeValue[]])), Stack{Node}(Deque [Node[]]))), State{Bool}(false), Tree(Node(Stack{AbstractNodeValue}(Deque [AbstractNodeValue[]])), Stack{Node}(Deque [Node[]]))), \"c[56]\" => Variable(\"c[56]\", Domain([1, 2, 3, 4], 1, [1, 2, 3, 4], State{Int64}(4), Tree(Node(Stack{AbstractNodeValue}(Deque [AbstractNodeValue[]])), Stack{Node}(Deque [Node[]]))), State{Bool}(false), Tree(Node(Stack{AbstractNodeValue}(Deque [AbstractNodeValue[]])), Stack{Node}(Deque [Node[]]))), \"c[76]\" => Variable(\"c[76]\", Domain([1, 2, 3, 4, 5], 0, [1, 2, 3, 4, 5], State{Int64}(5), Tree(Node(Stack{AbstractNodeValue}(Deque [AbstractNodeValue[]])), Stack{Node}(Deque [Node[]]))), State{Bool}(false), Tree(Node(Stack{AbstractNodeValue}(Deque [AbstractNodeValue[]])), Stack{Node}(Deque [Node[]]))), \"c[2]\" => Variable(\"c[2]\", Domain([1, 2, 3, 4, 5], 0, [1, 2, 3, 4, 5], State{Int64}(5), Tree(Node(Stack{AbstractNodeValue}(Deque [AbstractNodeValue[]])), Stack{Node}(Deque [Node[]]))), State{Bool}(false), Tree(Node(Stack{AbstractNodeValue}(Deque [AbstractNodeValue[]])), Stack{Node}(Deque [Node[]]))), \"c[77]\" => Variable(\"c[77]\", Domain([1, 2, 3, 4], 1, [1, 2, 3, 4], State{Int64}(4), Tree(Node(Stack{AbstractNodeValue}(Deque [AbstractNodeValue[]])), Stack{Node}(Deque [Node[]]))), State{Bool}(false), Tree(Node(Stack{AbstractNodeValue}(Deque [AbstractNodeValue[]])), Stack{Node}(Deque [Node[]]))), \"c[22]\" => Variable(\"c[22]\", Domain([1, 2, 3, 4, 5], 0, [1, 2, 3, 4, 5], State{Int64}(5), Tree(Node(Stack{AbstractNodeValue}(Deque [AbstractNodeValue[]])), Stack{Node}(Deque [Node[]]))), State{Bool}(false), Tree(Node(Stack{AbstractNodeValue}(Deque [AbstractNodeValue[]])), Stack{Node}(Deque [Node[]]))), \"c[118]\" => Variable(\"c[118]\", Domain([1, 2, 3, 4, 5], 0, [1, 2, 3, 4, 5], State{Int64}(5), Tree(Node(Stack{AbstractNodeValue}(Deque [AbstractNodeValue[]])), Stack{Node}(Deque [Node[]]))), State{Bool}(false), Tree(Node(Stack{AbstractNodeValue}(Deque [AbstractNodeValue[]])), Stack{Node}(Deque [Node[]]))), \"c[101]\" => Variable(\"c[101]\", Domain([1, 2, 3, 4], 1, [1, 2, 3, 4], State{Int64}(4), Tree(Node(Stack{AbstractNodeValue}(Deque [AbstractNodeValue[]])), Stack{Node}(Deque [Node[]]))), State{Bool}(false), Tree(Node(Stack{AbstractNodeValue}(Deque [AbstractNodeValue[]])), Stack{Node}(Deque [Node[]])))…), AbstractConstraint[ConstraintMatrix(Variable(\"c[1]\", Domain([1, 2, 3, 4, 5], 0, [1, 2, 3, 4, 5], State{Int64}(5), Tree(Node(Stack{AbstractNodeValue}(Deque [AbstractNodeValue[]])), Stack{Node}(Deque [Node[]]))), State{Bool}(false), Tree(Node(Stack{AbstractNodeValue}(Deque [AbstractNodeValue[]])), Stack{Node}(Deque [Node[]]))), Variable(\"c[5]\", Domain([1, 2, 3, 4], 1, [1, 2, 3, 4], State{Int64}(4), Tree(Node(Stack{AbstractNodeValue}(Deque [AbstractNodeValue[]])), Stack{Node}(Deque [Node[]]))), State{Bool}(false), Tree(Node(Stack{AbstractNodeValue}(Deque [AbstractNodeValue[]])), Stack{Node}(Deque [Node[]]))), Bool[1 1 1 1; 0 1 1 1; … ; 1 1 0 1; 1 1 1 0]), ConstraintMatrix(Variable(\"c[5]\", Domain([1, 2, 3, 4], 1, [1, 2, 3, 4], State{Int64}(4), Tree(Node(Stack{AbstractNodeValue}(Deque [AbstractNodeValue[]])), Stack{Node}(Deque [Node[]]))), State{Bool}(false), Tree(Node(Stack{AbstractNodeValue}(Deque [AbstractNodeValue[]])), Stack{Node}(Deque [Node[]]))), Variable(\"c[1]\", Domain([1, 2, 3, 4, 5], 0, [1, 2, 3, 4, 5], State{Int64}(5), Tree(Node(Stack{AbstractNodeValue}(Deque [AbstractNodeValue[]])), Stack{Node}(Deque [Node[]]))), State{Bool}(false), Tree(Node(Stack{AbstractNodeValue}(Deque [AbstractNodeValue[]])), Stack{Node}(Deque [Node[]]))), Bool[1 0 … 1 1; 1 1 … 1 1; 1 1 … 0 1; 1 1 … 1 0]), ConstraintMatrix(Variable(\"c[1]\", Domain([1, 2, 3, 4, 5], 0, [1, 2, 3, 4, 5], State{Int64}(5), Tree(Node(Stack{AbstractNodeValue}(Deque [AbstractNodeValue[]])), Stack{Node}(Deque [Node[]]))), State{Bool}(false), Tree(Node(Stack{AbstractNodeValue}(Deque [AbstractNodeValue[]])), Stack{Node}(Deque [Node[]]))), Variable(\"c[29]\", Domain([1, 2, 3, 4, 5], 0, [1, 2, 3, 4, 5], State{Int64}(5), Tree(Node(Stack{AbstractNodeValue}(Deque [AbstractNodeValue[]])), Stack{Node}(Deque [Node[]]))), State{Bool}(false), Tree(Node(Stack{AbstractNodeValue}(Deque [AbstractNodeValue[]])), Stack{Node}(Deque [Node[]]))), Bool[0 1 … 1 1; 1 0 … 1 1; … ; 1 1 … 0 1; 1 1 … 1 0]), ConstraintMatrix(Variable(\"c[29]\", Domain([1, 2, 3, 4, 5], 0, [1, 2, 3, 4, 5], State{Int64}(5), Tree(Node(Stack{AbstractNodeValue}(Deque [AbstractNodeValue[]])), Stack{Node}(Deque [Node[]]))), State{Bool}(false), Tree(Node(Stack{AbstractNodeValue}(Deque [AbstractNodeValue[]])), Stack{Node}(Deque [Node[]]))), Variable(\"c[1]\", Domain([1, 2, 3, 4, 5], 0, [1, 2, 3, 4, 5], State{Int64}(5), Tree(Node(Stack{AbstractNodeValue}(Deque [AbstractNodeValue[]])), Stack{Node}(Deque [Node[]]))), State{Bool}(false), Tree(Node(Stack{AbstractNodeValue}(Deque [AbstractNodeValue[]])), Stack{Node}(Deque [Node[]]))), Bool[0 1 … 1 1; 1 0 … 1 1; … ; 1 1 … 0 1; 1 1 … 1 0]), ConstraintMatrix(Variable(\"c[1]\", Domain([1, 2, 3, 4, 5], 0, [1, 2, 3, 4, 5], State{Int64}(5), Tree(Node(Stack{AbstractNodeValue}(Deque [AbstractNodeValue[]])), Stack{Node}(Deque [Node[]]))), State{Bool}(false), Tree(Node(Stack{AbstractNodeValue}(Deque [AbstractNodeValue[]])), Stack{Node}(Deque [Node[]]))), Variable(\"c[44]\", Domain([1, 2, 3, 4, 5], 0, [1, 2, 3, 4, 5], State{Int64}(5), Tree(Node(Stack{AbstractNodeValue}(Deque [AbstractNodeValue[]])), Stack{Node}(Deque [Node[]]))), State{Bool}(false), Tree(Node(Stack{AbstractNodeValue}(Deque [AbstractNodeValue[]])), Stack{Node}(Deque [Node[]]))), Bool[0 1 … 1 1; 1 0 … 1 1; … ; 1 1 … 0 1; 1 1 … 1 0]), ConstraintMatrix(Variable(\"c[44]\", Domain([1, 2, 3, 4, 5], 0, [1, 2, 3, 4, 5], State{Int64}(5), Tree(Node(Stack{AbstractNodeValue}(Deque [AbstractNodeValue[]])), Stack{Node}(Deque [Node[]]))), State{Bool}(false), Tree(Node(Stack{AbstractNodeValue}(Deque [AbstractNodeValue[]])), Stack{Node}(Deque [Node[]]))), Variable(\"c[1]\", Domain([1, 2, 3, 4, 5], 0, [1, 2, 3, 4, 5], State{Int64}(5), Tree(Node(Stack{AbstractNodeValue}(Deque [AbstractNodeValue[]])), Stack{Node}(Deque [Node[]]))), State{Bool}(false), Tree(Node(Stack{AbstractNodeValue}(Deque [AbstractNodeValue[]])), Stack{Node}(Deque [Node[]]))), Bool[0 1 … 1 1; 1 0 … 1 1; … ; 1 1 … 0 1; 1 1 … 1 0]), ConstraintMatrix(Variable(\"c[1]\", Domain([1, 2, 3, 4, 5], 0, [1, 2, 3, 4, 5], State{Int64}(5), Tree(Node(Stack{AbstractNodeValue}(Deque [AbstractNodeValue[]])), Stack{Node}(Deque [Node[]]))), State{Bool}(false), Tree(Node(Stack{AbstractNodeValue}(Deque [AbstractNodeValue[]])), Stack{Node}(Deque [Node[]]))), Variable(\"c[53]\", Domain([1, 2, 3, 4], 1, [1, 2, 3, 4], State{Int64}(4), Tree(Node(Stack{AbstractNodeValue}(Deque [AbstractNodeValue[]])), Stack{Node}(Deque [Node[]]))), State{Bool}(false), Tree(Node(Stack{AbstractNodeValue}(Deque [AbstractNodeValue[]])), Stack{Node}(Deque [Node[]]))), Bool[1 1 1 1; 0 1 1 1; … ; 1 1 0 1; 1 1 1 0]), ConstraintMatrix(Variable(\"c[53]\", Domain([1, 2, 3, 4], 1, [1, 2, 3, 4], State{Int64}(4), Tree(Node(Stack{AbstractNodeValue}(Deque [AbstractNodeValue[]])), Stack{Node}(Deque [Node[]]))), State{Bool}(false), Tree(Node(Stack{AbstractNodeValue}(Deque [AbstractNodeValue[]])), Stack{Node}(Deque [Node[]]))), Variable(\"c[1]\", Domain([1, 2, 3, 4, 5], 0, [1, 2, 3, 4, 5], State{Int64}(5), Tree(Node(Stack{AbstractNodeValue}(Deque [AbstractNodeValue[]])), Stack{Node}(Deque [Node[]]))), State{Bool}(false), Tree(Node(Stack{AbstractNodeValue}(Deque [AbstractNodeValue[]])), Stack{Node}(Deque [Node[]]))), Bool[1 0 … 1 1; 1 1 … 1 1; 1 1 … 0 1; 1 1 … 1 0]), ConstraintMatrix(Variable(\"c[1]\", Domain([1, 2, 3, 4, 5], 0, [1, 2, 3, 4, 5], State{Int64}(5), Tree(Node(Stack{AbstractNodeValue}(Deque [AbstractNodeValue[]])), Stack{Node}(Deque [Node[]]))), State{Bool}(false), Tree(Node(Stack{AbstractNodeValue}(Deque [AbstractNodeValue[]])), Stack{Node}(Deque [Node[]]))), Variable(\"c[79]\", Domain([1, 2, 3, 4, 5], 0, [1, 2, 3, 4, 5], State{Int64}(5), Tree(Node(Stack{AbstractNodeValue}(Deque [AbstractNodeValue[]])), Stack{Node}(Deque [Node[]]))), State{Bool}(false), Tree(Node(Stack{AbstractNodeValue}(Deque [AbstractNodeValue[]])), Stack{Node}(Deque [Node[]]))), Bool[0 1 … 1 1; 1 0 … 1 1; … ; 1 1 … 0 1; 1 1 … 1 0]), ConstraintMatrix(Variable(\"c[79]\", Domain([1, 2, 3, 4, 5], 0, [1, 2, 3, 4, 5], State{Int64}(5), Tree(Node(Stack{AbstractNodeValue}(Deque [AbstractNodeValue[]])), Stack{Node}(Deque [Node[]]))), State{Bool}(false), Tree(Node(Stack{AbstractNodeValue}(Deque [AbstractNodeValue[]])), Stack{Node}(Deque [Node[]]))), Variable(\"c[1]\", Domain([1, 2, 3, 4, 5], 0, [1, 2, 3, 4, 5], State{Int64}(5), Tree(Node(Stack{AbstractNodeValue}(Deque [AbstractNodeValue[]])), Stack{Node}(Deque [Node[]]))), State{Bool}(false), Tree(Node(Stack{AbstractNodeValue}(Deque [AbstractNodeValue[]])), Stack{Node}(Deque [Node[]]))), Bool[0 1 … 1 1; 1 0 … 1 1; … ; 1 1 … 0 1; 1 1 … 1 0])  …  ConstraintMatrix(Variable(\"c[117]\", Domain([1, 2, 3, 4, 5], 0, [1, 2, 3, 4, 5], State{Int64}(5), Tree(Node(Stack{AbstractNodeValue}(Deque [AbstractNodeValue[]])), Stack{Node}(Deque [Node[]]))), State{Bool}(false), Tree(Node(Stack{AbstractNodeValue}(Deque [AbstractNodeValue[]])), Stack{Node}(Deque [Node[]]))), Variable(\"c[119]\", Domain([1, 2, 3, 4, 5], 0, [1, 2, 3, 4, 5], State{Int64}(5), Tree(Node(Stack{AbstractNodeValue}(Deque [AbstractNodeValue[]])), Stack{Node}(Deque [Node[]]))), State{Bool}(false), Tree(Node(Stack{AbstractNodeValue}(Deque [AbstractNodeValue[]])), Stack{Node}(Deque [Node[]]))), Bool[0 1 … 1 1; 1 0 … 1 1; … ; 1 1 … 0 1; 1 1 … 1 0]), ConstraintMatrix(Variable(\"c[119]\", Domain([1, 2, 3, 4, 5], 0, [1, 2, 3, 4, 5], State{Int64}(5), Tree(Node(Stack{AbstractNodeValue}(Deque [AbstractNodeValue[]])), Stack{Node}(Deque [Node[]]))), State{Bool}(false), Tree(Node(Stack{AbstractNodeValue}(Deque [AbstractNodeValue[]])), Stack{Node}(Deque [Node[]]))), Variable(\"c[117]\", Domain([1, 2, 3, 4, 5], 0, [1, 2, 3, 4, 5], State{Int64}(5), Tree(Node(Stack{AbstractNodeValue}(Deque [AbstractNodeValue[]])), Stack{Node}(Deque [Node[]]))), State{Bool}(false), Tree(Node(Stack{AbstractNodeValue}(Deque [AbstractNodeValue[]])), Stack{Node}(Deque [Node[]]))), Bool[0 1 … 1 1; 1 0 … 1 1; … ; 1 1 … 0 1; 1 1 … 1 0]), ConstraintMatrix(Variable(\"c[117]\", Domain([1, 2, 3, 4, 5], 0, [1, 2, 3, 4, 5], State{Int64}(5), Tree(Node(Stack{AbstractNodeValue}(Deque [AbstractNodeValue[]])), Stack{Node}(Deque [Node[]]))), State{Bool}(false), Tree(Node(Stack{AbstractNodeValue}(Deque [AbstractNodeValue[]])), Stack{Node}(Deque [Node[]]))), Variable(\"c[124]\", Domain([1, 2, 3, 4, 5], 0, [1, 2, 3, 4, 5], State{Int64}(5), Tree(Node(Stack{AbstractNodeValue}(Deque [AbstractNodeValue[]])), Stack{Node}(Deque [Node[]]))), State{Bool}(false), Tree(Node(Stack{AbstractNodeValue}(Deque [AbstractNodeValue[]])), Stack{Node}(Deque [Node[]]))), Bool[0 1 … 1 1; 1 0 … 1 1; … ; 1 1 … 0 1; 1 1 … 1 0]), ConstraintMatrix(Variable(\"c[124]\", Domain([1, 2, 3, 4, 5], 0, [1, 2, 3, 4, 5], State{Int64}(5), Tree(Node(Stack{AbstractNodeValue}(Deque [AbstractNodeValue[]])), Stack{Node}(Deque [Node[]]))), State{Bool}(false), Tree(Node(Stack{AbstractNodeValue}(Deque [AbstractNodeValue[]])), Stack{Node}(Deque [Node[]]))), Variable(\"c[117]\", Domain([1, 2, 3, 4, 5], 0, [1, 2, 3, 4, 5], State{Int64}(5), Tree(Node(Stack{AbstractNodeValue}(Deque [AbstractNodeValue[]])), Stack{Node}(Deque [Node[]]))), State{Bool}(false), Tree(Node(Stack{AbstractNodeValue}(Deque [AbstractNodeValue[]])), Stack{Node}(Deque [Node[]]))), Bool[0 1 … 1 1; 1 0 … 1 1; … ; 1 1 … 0 1; 1 1 … 1 0]), ConstraintMatrix(Variable(\"c[118]\", Domain([1, 2, 3, 4, 5], 0, [1, 2, 3, 4, 5], State{Int64}(5), Tree(Node(Stack{AbstractNodeValue}(Deque [AbstractNodeValue[]])), Stack{Node}(Deque [Node[]]))), State{Bool}(false), Tree(Node(Stack{AbstractNodeValue}(Deque [AbstractNodeValue[]])), Stack{Node}(Deque [Node[]]))), Variable(\"c[119]\", Domain([1, 2, 3, 4, 5], 0, [1, 2, 3, 4, 5], State{Int64}(5), Tree(Node(Stack{AbstractNodeValue}(Deque [AbstractNodeValue[]])), Stack{Node}(Deque [Node[]]))), State{Bool}(false), Tree(Node(Stack{AbstractNodeValue}(Deque [AbstractNodeValue[]])), Stack{Node}(Deque [Node[]]))), Bool[0 1 … 1 1; 1 0 … 1 1; … ; 1 1 … 0 1; 1 1 … 1 0]), ConstraintMatrix(Variable(\"c[119]\", Domain([1, 2, 3, 4, 5], 0, [1, 2, 3, 4, 5], State{Int64}(5), Tree(Node(Stack{AbstractNodeValue}(Deque [AbstractNodeValue[]])), Stack{Node}(Deque [Node[]]))), State{Bool}(false), Tree(Node(Stack{AbstractNodeValue}(Deque [AbstractNodeValue[]])), Stack{Node}(Deque [Node[]]))), Variable(\"c[118]\", Domain([1, 2, 3, 4, 5], 0, [1, 2, 3, 4, 5], State{Int64}(5), Tree(Node(Stack{AbstractNodeValue}(Deque [AbstractNodeValue[]])), Stack{Node}(Deque [Node[]]))), State{Bool}(false), Tree(Node(Stack{AbstractNodeValue}(Deque [AbstractNodeValue[]])), Stack{Node}(Deque [Node[]]))), Bool[0 1 … 1 1; 1 0 … 1 1; … ; 1 1 … 0 1; 1 1 … 1 0]), ConstraintMatrix(Variable(\"c[118]\", Domain([1, 2, 3, 4, 5], 0, [1, 2, 3, 4, 5], State{Int64}(5), Tree(Node(Stack{AbstractNodeValue}(Deque [AbstractNodeValue[]])), Stack{Node}(Deque [Node[]]))), State{Bool}(false), Tree(Node(Stack{AbstractNodeValue}(Deque [AbstractNodeValue[]])), Stack{Node}(Deque [Node[]]))), Variable(\"c[121]\", Domain([1, 2, 3, 4, 5], 0, [1, 2, 3, 4, 5], State{Int64}(5), Tree(Node(Stack{AbstractNodeValue}(Deque [AbstractNodeValue[]])), Stack{Node}(Deque [Node[]]))), State{Bool}(false), Tree(Node(Stack{AbstractNodeValue}(Deque [AbstractNodeValue[]])), Stack{Node}(Deque [Node[]]))), Bool[0 1 … 1 1; 1 0 … 1 1; … ; 1 1 … 0 1; 1 1 … 1 0]), ConstraintMatrix(Variable(\"c[121]\", Domain([1, 2, 3, 4, 5], 0, [1, 2, 3, 4, 5], State{Int64}(5), Tree(Node(Stack{AbstractNodeValue}(Deque [AbstractNodeValue[]])), Stack{Node}(Deque [Node[]]))), State{Bool}(false), Tree(Node(Stack{AbstractNodeValue}(Deque [AbstractNodeValue[]])), Stack{Node}(Deque [Node[]]))), Variable(\"c[118]\", Domain([1, 2, 3, 4, 5], 0, [1, 2, 3, 4, 5], State{Int64}(5), Tree(Node(Stack{AbstractNodeValue}(Deque [AbstractNodeValue[]])), Stack{Node}(Deque [Node[]]))), State{Bool}(false), Tree(Node(Stack{AbstractNodeValue}(Deque [AbstractNodeValue[]])), Stack{Node}(Deque [Node[]]))), Bool[0 1 … 1 1; 1 0 … 1 1; … ; 1 1 … 0 1; 1 1 … 1 0]), ConstraintMatrix(Variable(\"c[122]\", Domain([1, 2, 3, 4], 1, [1, 2, 3, 4], State{Int64}(4), Tree(Node(Stack{AbstractNodeValue}(Deque [AbstractNodeValue[]])), Stack{Node}(Deque [Node[]]))), State{Bool}(false), Tree(Node(Stack{AbstractNodeValue}(Deque [AbstractNodeValue[]])), Stack{Node}(Deque [Node[]]))), Variable(\"c[124]\", Domain([1, 2, 3, 4, 5], 0, [1, 2, 3, 4, 5], State{Int64}(5), Tree(Node(Stack{AbstractNodeValue}(Deque [AbstractNodeValue[]])), Stack{Node}(Deque [Node[]]))), State{Bool}(false), Tree(Node(Stack{AbstractNodeValue}(Deque [AbstractNodeValue[]])), Stack{Node}(Deque [Node[]]))), Bool[1 0 … 1 1; 1 1 … 1 1; 1 1 … 0 1; 1 1 … 1 0]), ConstraintMatrix(Variable(\"c[124]\", Domain([1, 2, 3, 4, 5], 0, [1, 2, 3, 4, 5], State{Int64}(5), Tree(Node(Stack{AbstractNodeValue}(Deque [AbstractNodeValue[]])), Stack{Node}(Deque [Node[]]))), State{Bool}(false), Tree(Node(Stack{AbstractNodeValue}(Deque [AbstractNodeValue[]])), Stack{Node}(Deque [Node[]]))), Variable(\"c[122]\", Domain([1, 2, 3, 4], 1, [1, 2, 3, 4], State{Int64}(4), Tree(Node(Stack{AbstractNodeValue}(Deque [AbstractNodeValue[]])), Stack{Node}(Deque [Node[]]))), State{Bool}(false), Tree(Node(Stack{AbstractNodeValue}(Deque [AbstractNodeValue[]])), Stack{Node}(Deque [Node[]]))), Bool[1 1 1 1; 0 1 1 1; … ; 1 1 0 1; 1 1 1 0])], nothing, Tree(Node(Stack{AbstractNodeValue}(Deque [AbstractNodeValue[]])), Stack{Node}(Deque [Node[]])))"
      ]
     },
     "metadata": {},
     "output_type": "display_data"
    }
   ],
   "source": [
    "ConstraintType = ConstraintMatrix\n",
    "model = graph_coloring(filepath, k, ConstraintType)"
   ]
  },
  {
   "cell_type": "markdown",
   "metadata": {},
   "source": [
    "## 3. Search strategies"
   ]
  },
  {
   "cell_type": "code",
   "execution_count": 36,
   "metadata": {},
   "outputs": [
    {
     "data": {
      "text/plain": [
       "ForwardChecking()"
      ]
     },
     "metadata": {},
     "output_type": "display_data"
    }
   ],
   "source": [
    "variableSelection = MinDomainVariableSelection()\n",
    "valueSelection = RandomValueSelection()\n",
    "AC = nothing\n",
    "FC = ForwardChecking()"
   ]
  },
  {
   "cell_type": "markdown",
   "metadata": {},
   "source": [
    "## 4. Launch search"
   ]
  },
  {
   "cell_type": "code",
   "execution_count": 37,
   "metadata": {},
   "outputs": [
    {
     "data": {
      "text/plain": [
       ":SolutionFound"
      ]
     },
     "metadata": {},
     "output_type": "display_data"
    }
   ],
   "source": [
    "search!(model, variableSelection, valueSelection, AC, FC)"
   ]
  },
  {
   "cell_type": "markdown",
   "metadata": {},
   "source": [
    "## 5. Display Solution"
   ]
  },
  {
   "cell_type": "code",
   "execution_count": 38,
   "metadata": {},
   "outputs": [
    {
     "data": {
      "text/plain": [
       "125-element Vector{Int64}:\n",
       " 3\n",
       " 5\n",
       " 5\n",
       " 3\n",
       " 5\n",
       " 1\n",
       " 2\n",
       " 1\n",
       " 5\n",
       " 1\n",
       " ⋮\n",
       " 3\n",
       " 2\n",
       " 1\n",
       " 4\n",
       " 3\n",
       " 5\n",
       " 2\n",
       " 1\n",
       " 4"
      ]
     },
     "metadata": {},
     "output_type": "display_data"
    }
   ],
   "source": [
    "solution = getSolutionVector(model)"
   ]
  }
 ],
 "metadata": {
  "kernelspec": {
   "display_name": "Julia 1.9.4",
   "language": "julia",
   "name": "julia-1.9"
  },
  "language_info": {
   "file_extension": ".jl",
   "mimetype": "application/julia",
   "name": "julia",
   "version": "1.9.4"
  }
 },
 "nbformat": 4,
 "nbformat_minor": 2
}
