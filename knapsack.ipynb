{
 "cells": [
  {
   "cell_type": "markdown",
   "metadata": {},
   "source": [
    "## 0. Imports"
   ]
  },
  {
   "cell_type": "code",
   "execution_count": 24,
   "metadata": {},
   "outputs": [
    {
     "data": {
      "text/plain": [
       "knapsack (generic function with 1 method)"
      ]
     },
     "metadata": {},
     "output_type": "display_data"
    }
   ],
   "source": [
    "include(\"src/main.jl\")"
   ]
  },
  {
   "cell_type": "markdown",
   "metadata": {},
   "source": [
    "## 1. Instance"
   ]
  },
  {
   "cell_type": "code",
   "execution_count": 25,
   "metadata": {},
   "outputs": [
    {
     "data": {
      "text/plain": [
       "295"
      ]
     },
     "metadata": {},
     "output_type": "display_data"
    }
   ],
   "source": [
    "filepath = \"data/knapsack/low-dimensional/f1_l-d_kp_10_269\"\n",
    "k = 295"
   ]
  },
  {
   "cell_type": "markdown",
   "metadata": {},
   "source": [
    "## 2. Parsing and model construction"
   ]
  },
  {
   "cell_type": "code",
   "execution_count": 26,
   "metadata": {},
   "outputs": [
    {
     "data": {
      "text/plain": [
       "Model(Dict{String, Variable}(\"x[2]\" => Variable(\"x[2]\", Domain([1, 2], -1, [1, 2], State{Int64}(2), Tree(Node(Stack{AbstractNodeValue}(Deque [AbstractNodeValue[]])), Stack{Node}(Deque [Node[]]))), State{Bool}(false), Tree(Node(Stack{AbstractNodeValue}(Deque [AbstractNodeValue[]])), Stack{Node}(Deque [Node[]]))), \"x[10]\" => Variable(\"x[10]\", Domain([1, 2], -1, [1, 2], State{Int64}(2), Tree(Node(Stack{AbstractNodeValue}(Deque [AbstractNodeValue[]])), Stack{Node}(Deque [Node[]]))), State{Bool}(false), Tree(Node(Stack{AbstractNodeValue}(Deque [AbstractNodeValue[]])), Stack{Node}(Deque [Node[]]))), \"x[4]\" => Variable(\"x[4]\", Domain([1, 2], -1, [1, 2], State{Int64}(2), Tree(Node(Stack{AbstractNodeValue}(Deque [AbstractNodeValue[]])), Stack{Node}(Deque [Node[]]))), State{Bool}(false), Tree(Node(Stack{AbstractNodeValue}(Deque [AbstractNodeValue[]])), Stack{Node}(Deque [Node[]]))), \"x[9]\" => Variable(\"x[9]\", Domain([1, 2], -1, [1, 2], State{Int64}(2), Tree(Node(Stack{AbstractNodeValue}(Deque [AbstractNodeValue[]])), Stack{Node}(Deque [Node[]]))), State{Bool}(false), Tree(Node(Stack{AbstractNodeValue}(Deque [AbstractNodeValue[]])), Stack{Node}(Deque [Node[]]))), \"x[7]\" => Variable(\"x[7]\", Domain([1, 2], -1, [1, 2], State{Int64}(2), Tree(Node(Stack{AbstractNodeValue}(Deque [AbstractNodeValue[]])), Stack{Node}(Deque [Node[]]))), State{Bool}(false), Tree(Node(Stack{AbstractNodeValue}(Deque [AbstractNodeValue[]])), Stack{Node}(Deque [Node[]]))), \"x[8]\" => Variable(\"x[8]\", Domain([1, 2], -1, [1, 2], State{Int64}(2), Tree(Node(Stack{AbstractNodeValue}(Deque [AbstractNodeValue[]])), Stack{Node}(Deque [Node[]]))), State{Bool}(false), Tree(Node(Stack{AbstractNodeValue}(Deque [AbstractNodeValue[]])), Stack{Node}(Deque [Node[]]))), \"x[1]\" => Variable(\"x[1]\", Domain([1, 2], -1, [1, 2], State{Int64}(2), Tree(Node(Stack{AbstractNodeValue}(Deque [AbstractNodeValue[]])), Stack{Node}(Deque [Node[]]))), State{Bool}(false), Tree(Node(Stack{AbstractNodeValue}(Deque [AbstractNodeValue[]])), Stack{Node}(Deque [Node[]]))), \"sum_weight\" => Variable(\"sum_weight\", TupleDomain(Tuple[(1, 1, 1, 1, 1, 1, 1, 1, 1, 1), (2, 1, 1, 1, 1, 1, 1, 1, 1, 1), (1, 2, 1, 1, 1, 1, 1, 1, 1, 1), (2, 2, 1, 1, 1, 1, 1, 1, 1, 1), (1, 1, 2, 1, 1, 1, 1, 1, 1, 1), (2, 1, 2, 1, 1, 1, 1, 1, 1, 1), (1, 2, 2, 1, 1, 1, 1, 1, 1, 1), (2, 2, 2, 1, 1, 1, 1, 1, 1, 1), (1, 1, 1, 2, 1, 1, 1, 1, 1, 1), (2, 1, 1, 2, 1, 1, 1, 1, 1, 1)  …  (1, 2, 1, 1, 2, 1, 1, 2, 2, 2), (1, 1, 2, 1, 2, 1, 1, 2, 2, 2), (1, 2, 2, 1, 2, 1, 1, 2, 2, 2), (1, 1, 1, 2, 2, 1, 1, 2, 2, 2), (1, 2, 1, 2, 2, 1, 1, 2, 2, 2), (1, 1, 1, 1, 1, 2, 1, 2, 2, 2), (1, 2, 1, 1, 1, 2, 1, 2, 2, 2), (1, 1, 1, 1, 2, 2, 1, 2, 2, 2), (1, 1, 1, 1, 1, 1, 2, 2, 2, 2), (1, 2, 1, 1, 1, 1, 2, 2, 2, 2)], [1, 2, 3, 4, 5, 6, 7, 8, 9, 10  …  503, 504, 505, 506, 507, 508, 509, 510, 511, 512], 0, [1, 2, 3, 4, 5, 6, 7, 8, 9, 10  …  503, 504, 505, 506, 507, 508, 509, 510, 511, 512], State{Int64}(512), Tree(Node(Stack{AbstractNodeValue}(Deque [AbstractNodeValue[]])), Stack{Node}(Deque [Node[]]))), State{Bool}(false), Tree(Node(Stack{AbstractNodeValue}(Deque [AbstractNodeValue[]])), Stack{Node}(Deque [Node[]]))), \"x[3]\" => Variable(\"x[3]\", Domain([1, 2], -1, [1, 2], State{Int64}(2), Tree(Node(Stack{AbstractNodeValue}(Deque [AbstractNodeValue[]])), Stack{Node}(Deque [Node[]]))), State{Bool}(false), Tree(Node(Stack{AbstractNodeValue}(Deque [AbstractNodeValue[]])), Stack{Node}(Deque [Node[]]))), \"x[5]\" => Variable(\"x[5]\", Domain([1, 2], -1, [1, 2], State{Int64}(2), Tree(Node(Stack{AbstractNodeValue}(Deque [AbstractNodeValue[]])), Stack{Node}(Deque [Node[]]))), State{Bool}(false), Tree(Node(Stack{AbstractNodeValue}(Deque [AbstractNodeValue[]])), Stack{Node}(Deque [Node[]])))…), AbstractConstraint[ConstraintMatrix(Variable(\"x[1]\", Domain([1, 2], -1, [1, 2], State{Int64}(2), Tree(Node(Stack{AbstractNodeValue}(Deque [AbstractNodeValue[]])), Stack{Node}(Deque [Node[]]))), State{Bool}(false), Tree(Node(Stack{AbstractNodeValue}(Deque [AbstractNodeValue[]])), Stack{Node}(Deque [Node[]]))), Variable(\"sum_weight\", TupleDomain(Tuple[(1, 1, 1, 1, 1, 1, 1, 1, 1, 1), (2, 1, 1, 1, 1, 1, 1, 1, 1, 1), (1, 2, 1, 1, 1, 1, 1, 1, 1, 1), (2, 2, 1, 1, 1, 1, 1, 1, 1, 1), (1, 1, 2, 1, 1, 1, 1, 1, 1, 1), (2, 1, 2, 1, 1, 1, 1, 1, 1, 1), (1, 2, 2, 1, 1, 1, 1, 1, 1, 1), (2, 2, 2, 1, 1, 1, 1, 1, 1, 1), (1, 1, 1, 2, 1, 1, 1, 1, 1, 1), (2, 1, 1, 2, 1, 1, 1, 1, 1, 1)  …  (1, 2, 1, 1, 2, 1, 1, 2, 2, 2), (1, 1, 2, 1, 2, 1, 1, 2, 2, 2), (1, 2, 2, 1, 2, 1, 1, 2, 2, 2), (1, 1, 1, 2, 2, 1, 1, 2, 2, 2), (1, 2, 1, 2, 2, 1, 1, 2, 2, 2), (1, 1, 1, 1, 1, 2, 1, 2, 2, 2), (1, 2, 1, 1, 1, 2, 1, 2, 2, 2), (1, 1, 1, 1, 2, 2, 1, 2, 2, 2), (1, 1, 1, 1, 1, 1, 2, 2, 2, 2), (1, 2, 1, 1, 1, 1, 2, 2, 2, 2)], [1, 2, 3, 4, 5, 6, 7, 8, 9, 10  …  503, 504, 505, 506, 507, 508, 509, 510, 511, 512], 0, [1, 2, 3, 4, 5, 6, 7, 8, 9, 10  …  503, 504, 505, 506, 507, 508, 509, 510, 511, 512], State{Int64}(512), Tree(Node(Stack{AbstractNodeValue}(Deque [AbstractNodeValue[]])), Stack{Node}(Deque [Node[]]))), State{Bool}(false), Tree(Node(Stack{AbstractNodeValue}(Deque [AbstractNodeValue[]])), Stack{Node}(Deque [Node[]]))), Bool[1 0 … 1 1; 0 1 … 0 0]), ConstraintMatrix(Variable(\"sum_weight\", TupleDomain(Tuple[(1, 1, 1, 1, 1, 1, 1, 1, 1, 1), (2, 1, 1, 1, 1, 1, 1, 1, 1, 1), (1, 2, 1, 1, 1, 1, 1, 1, 1, 1), (2, 2, 1, 1, 1, 1, 1, 1, 1, 1), (1, 1, 2, 1, 1, 1, 1, 1, 1, 1), (2, 1, 2, 1, 1, 1, 1, 1, 1, 1), (1, 2, 2, 1, 1, 1, 1, 1, 1, 1), (2, 2, 2, 1, 1, 1, 1, 1, 1, 1), (1, 1, 1, 2, 1, 1, 1, 1, 1, 1), (2, 1, 1, 2, 1, 1, 1, 1, 1, 1)  …  (1, 2, 1, 1, 2, 1, 1, 2, 2, 2), (1, 1, 2, 1, 2, 1, 1, 2, 2, 2), (1, 2, 2, 1, 2, 1, 1, 2, 2, 2), (1, 1, 1, 2, 2, 1, 1, 2, 2, 2), (1, 2, 1, 2, 2, 1, 1, 2, 2, 2), (1, 1, 1, 1, 1, 2, 1, 2, 2, 2), (1, 2, 1, 1, 1, 2, 1, 2, 2, 2), (1, 1, 1, 1, 2, 2, 1, 2, 2, 2), (1, 1, 1, 1, 1, 1, 2, 2, 2, 2), (1, 2, 1, 1, 1, 1, 2, 2, 2, 2)], [1, 2, 3, 4, 5, 6, 7, 8, 9, 10  …  503, 504, 505, 506, 507, 508, 509, 510, 511, 512], 0, [1, 2, 3, 4, 5, 6, 7, 8, 9, 10  …  503, 504, 505, 506, 507, 508, 509, 510, 511, 512], State{Int64}(512), Tree(Node(Stack{AbstractNodeValue}(Deque [AbstractNodeValue[]])), Stack{Node}(Deque [Node[]]))), State{Bool}(false), Tree(Node(Stack{AbstractNodeValue}(Deque [AbstractNodeValue[]])), Stack{Node}(Deque [Node[]]))), Variable(\"x[1]\", Domain([1, 2], -1, [1, 2], State{Int64}(2), Tree(Node(Stack{AbstractNodeValue}(Deque [AbstractNodeValue[]])), Stack{Node}(Deque [Node[]]))), State{Bool}(false), Tree(Node(Stack{AbstractNodeValue}(Deque [AbstractNodeValue[]])), Stack{Node}(Deque [Node[]]))), Bool[1 0; 0 1; … ; 1 0; 1 0]), ConstraintMatrix(Variable(\"x[2]\", Domain([1, 2], -1, [1, 2], State{Int64}(2), Tree(Node(Stack{AbstractNodeValue}(Deque [AbstractNodeValue[]])), Stack{Node}(Deque [Node[]]))), State{Bool}(false), Tree(Node(Stack{AbstractNodeValue}(Deque [AbstractNodeValue[]])), Stack{Node}(Deque [Node[]]))), Variable(\"sum_weight\", TupleDomain(Tuple[(1, 1, 1, 1, 1, 1, 1, 1, 1, 1), (2, 1, 1, 1, 1, 1, 1, 1, 1, 1), (1, 2, 1, 1, 1, 1, 1, 1, 1, 1), (2, 2, 1, 1, 1, 1, 1, 1, 1, 1), (1, 1, 2, 1, 1, 1, 1, 1, 1, 1), (2, 1, 2, 1, 1, 1, 1, 1, 1, 1), (1, 2, 2, 1, 1, 1, 1, 1, 1, 1), (2, 2, 2, 1, 1, 1, 1, 1, 1, 1), (1, 1, 1, 2, 1, 1, 1, 1, 1, 1), (2, 1, 1, 2, 1, 1, 1, 1, 1, 1)  …  (1, 2, 1, 1, 2, 1, 1, 2, 2, 2), (1, 1, 2, 1, 2, 1, 1, 2, 2, 2), (1, 2, 2, 1, 2, 1, 1, 2, 2, 2), (1, 1, 1, 2, 2, 1, 1, 2, 2, 2), (1, 2, 1, 2, 2, 1, 1, 2, 2, 2), (1, 1, 1, 1, 1, 2, 1, 2, 2, 2), (1, 2, 1, 1, 1, 2, 1, 2, 2, 2), (1, 1, 1, 1, 2, 2, 1, 2, 2, 2), (1, 1, 1, 1, 1, 1, 2, 2, 2, 2), (1, 2, 1, 1, 1, 1, 2, 2, 2, 2)], [1, 2, 3, 4, 5, 6, 7, 8, 9, 10  …  503, 504, 505, 506, 507, 508, 509, 510, 511, 512], 0, [1, 2, 3, 4, 5, 6, 7, 8, 9, 10  …  503, 504, 505, 506, 507, 508, 509, 510, 511, 512], State{Int64}(512), Tree(Node(Stack{AbstractNodeValue}(Deque [AbstractNodeValue[]])), Stack{Node}(Deque [Node[]]))), State{Bool}(false), Tree(Node(Stack{AbstractNodeValue}(Deque [AbstractNodeValue[]])), Stack{Node}(Deque [Node[]]))), Bool[1 1 … 1 0; 0 0 … 0 1]), ConstraintMatrix(Variable(\"sum_weight\", TupleDomain(Tuple[(1, 1, 1, 1, 1, 1, 1, 1, 1, 1), (2, 1, 1, 1, 1, 1, 1, 1, 1, 1), (1, 2, 1, 1, 1, 1, 1, 1, 1, 1), (2, 2, 1, 1, 1, 1, 1, 1, 1, 1), (1, 1, 2, 1, 1, 1, 1, 1, 1, 1), (2, 1, 2, 1, 1, 1, 1, 1, 1, 1), (1, 2, 2, 1, 1, 1, 1, 1, 1, 1), (2, 2, 2, 1, 1, 1, 1, 1, 1, 1), (1, 1, 1, 2, 1, 1, 1, 1, 1, 1), (2, 1, 1, 2, 1, 1, 1, 1, 1, 1)  …  (1, 2, 1, 1, 2, 1, 1, 2, 2, 2), (1, 1, 2, 1, 2, 1, 1, 2, 2, 2), (1, 2, 2, 1, 2, 1, 1, 2, 2, 2), (1, 1, 1, 2, 2, 1, 1, 2, 2, 2), (1, 2, 1, 2, 2, 1, 1, 2, 2, 2), (1, 1, 1, 1, 1, 2, 1, 2, 2, 2), (1, 2, 1, 1, 1, 2, 1, 2, 2, 2), (1, 1, 1, 1, 2, 2, 1, 2, 2, 2), (1, 1, 1, 1, 1, 1, 2, 2, 2, 2), (1, 2, 1, 1, 1, 1, 2, 2, 2, 2)], [1, 2, 3, 4, 5, 6, 7, 8, 9, 10  …  503, 504, 505, 506, 507, 508, 509, 510, 511, 512], 0, [1, 2, 3, 4, 5, 6, 7, 8, 9, 10  …  503, 504, 505, 506, 507, 508, 509, 510, 511, 512], State{Int64}(512), Tree(Node(Stack{AbstractNodeValue}(Deque [AbstractNodeValue[]])), Stack{Node}(Deque [Node[]]))), State{Bool}(false), Tree(Node(Stack{AbstractNodeValue}(Deque [AbstractNodeValue[]])), Stack{Node}(Deque [Node[]]))), Variable(\"x[2]\", Domain([1, 2], -1, [1, 2], State{Int64}(2), Tree(Node(Stack{AbstractNodeValue}(Deque [AbstractNodeValue[]])), Stack{Node}(Deque [Node[]]))), State{Bool}(false), Tree(Node(Stack{AbstractNodeValue}(Deque [AbstractNodeValue[]])), Stack{Node}(Deque [Node[]]))), Bool[1 0; 1 0; … ; 1 0; 0 1]), ConstraintMatrix(Variable(\"x[3]\", Domain([1, 2], -1, [1, 2], State{Int64}(2), Tree(Node(Stack{AbstractNodeValue}(Deque [AbstractNodeValue[]])), Stack{Node}(Deque [Node[]]))), State{Bool}(false), Tree(Node(Stack{AbstractNodeValue}(Deque [AbstractNodeValue[]])), Stack{Node}(Deque [Node[]]))), Variable(\"sum_weight\", TupleDomain(Tuple[(1, 1, 1, 1, 1, 1, 1, 1, 1, 1), (2, 1, 1, 1, 1, 1, 1, 1, 1, 1), (1, 2, 1, 1, 1, 1, 1, 1, 1, 1), (2, 2, 1, 1, 1, 1, 1, 1, 1, 1), (1, 1, 2, 1, 1, 1, 1, 1, 1, 1), (2, 1, 2, 1, 1, 1, 1, 1, 1, 1), (1, 2, 2, 1, 1, 1, 1, 1, 1, 1), (2, 2, 2, 1, 1, 1, 1, 1, 1, 1), (1, 1, 1, 2, 1, 1, 1, 1, 1, 1), (2, 1, 1, 2, 1, 1, 1, 1, 1, 1)  …  (1, 2, 1, 1, 2, 1, 1, 2, 2, 2), (1, 1, 2, 1, 2, 1, 1, 2, 2, 2), (1, 2, 2, 1, 2, 1, 1, 2, 2, 2), (1, 1, 1, 2, 2, 1, 1, 2, 2, 2), (1, 2, 1, 2, 2, 1, 1, 2, 2, 2), (1, 1, 1, 1, 1, 2, 1, 2, 2, 2), (1, 2, 1, 1, 1, 2, 1, 2, 2, 2), (1, 1, 1, 1, 2, 2, 1, 2, 2, 2), (1, 1, 1, 1, 1, 1, 2, 2, 2, 2), (1, 2, 1, 1, 1, 1, 2, 2, 2, 2)], [1, 2, 3, 4, 5, 6, 7, 8, 9, 10  …  503, 504, 505, 506, 507, 508, 509, 510, 511, 512], 0, [1, 2, 3, 4, 5, 6, 7, 8, 9, 10  …  503, 504, 505, 506, 507, 508, 509, 510, 511, 512], State{Int64}(512), Tree(Node(Stack{AbstractNodeValue}(Deque [AbstractNodeValue[]])), Stack{Node}(Deque [Node[]]))), State{Bool}(false), Tree(Node(Stack{AbstractNodeValue}(Deque [AbstractNodeValue[]])), Stack{Node}(Deque [Node[]]))), Bool[1 1 … 1 1; 0 0 … 0 0]), ConstraintMatrix(Variable(\"sum_weight\", TupleDomain(Tuple[(1, 1, 1, 1, 1, 1, 1, 1, 1, 1), (2, 1, 1, 1, 1, 1, 1, 1, 1, 1), (1, 2, 1, 1, 1, 1, 1, 1, 1, 1), (2, 2, 1, 1, 1, 1, 1, 1, 1, 1), (1, 1, 2, 1, 1, 1, 1, 1, 1, 1), (2, 1, 2, 1, 1, 1, 1, 1, 1, 1), (1, 2, 2, 1, 1, 1, 1, 1, 1, 1), (2, 2, 2, 1, 1, 1, 1, 1, 1, 1), (1, 1, 1, 2, 1, 1, 1, 1, 1, 1), (2, 1, 1, 2, 1, 1, 1, 1, 1, 1)  …  (1, 2, 1, 1, 2, 1, 1, 2, 2, 2), (1, 1, 2, 1, 2, 1, 1, 2, 2, 2), (1, 2, 2, 1, 2, 1, 1, 2, 2, 2), (1, 1, 1, 2, 2, 1, 1, 2, 2, 2), (1, 2, 1, 2, 2, 1, 1, 2, 2, 2), (1, 1, 1, 1, 1, 2, 1, 2, 2, 2), (1, 2, 1, 1, 1, 2, 1, 2, 2, 2), (1, 1, 1, 1, 2, 2, 1, 2, 2, 2), (1, 1, 1, 1, 1, 1, 2, 2, 2, 2), (1, 2, 1, 1, 1, 1, 2, 2, 2, 2)], [1, 2, 3, 4, 5, 6, 7, 8, 9, 10  …  503, 504, 505, 506, 507, 508, 509, 510, 511, 512], 0, [1, 2, 3, 4, 5, 6, 7, 8, 9, 10  …  503, 504, 505, 506, 507, 508, 509, 510, 511, 512], State{Int64}(512), Tree(Node(Stack{AbstractNodeValue}(Deque [AbstractNodeValue[]])), Stack{Node}(Deque [Node[]]))), State{Bool}(false), Tree(Node(Stack{AbstractNodeValue}(Deque [AbstractNodeValue[]])), Stack{Node}(Deque [Node[]]))), Variable(\"x[3]\", Domain([1, 2], -1, [1, 2], State{Int64}(2), Tree(Node(Stack{AbstractNodeValue}(Deque [AbstractNodeValue[]])), Stack{Node}(Deque [Node[]]))), State{Bool}(false), Tree(Node(Stack{AbstractNodeValue}(Deque [AbstractNodeValue[]])), Stack{Node}(Deque [Node[]]))), Bool[1 0; 1 0; … ; 1 0; 1 0]), ConstraintMatrix(Variable(\"x[4]\", Domain([1, 2], -1, [1, 2], State{Int64}(2), Tree(Node(Stack{AbstractNodeValue}(Deque [AbstractNodeValue[]])), Stack{Node}(Deque [Node[]]))), State{Bool}(false), Tree(Node(Stack{AbstractNodeValue}(Deque [AbstractNodeValue[]])), Stack{Node}(Deque [Node[]]))), Variable(\"sum_weight\", TupleDomain(Tuple[(1, 1, 1, 1, 1, 1, 1, 1, 1, 1), (2, 1, 1, 1, 1, 1, 1, 1, 1, 1), (1, 2, 1, 1, 1, 1, 1, 1, 1, 1), (2, 2, 1, 1, 1, 1, 1, 1, 1, 1), (1, 1, 2, 1, 1, 1, 1, 1, 1, 1), (2, 1, 2, 1, 1, 1, 1, 1, 1, 1), (1, 2, 2, 1, 1, 1, 1, 1, 1, 1), (2, 2, 2, 1, 1, 1, 1, 1, 1, 1), (1, 1, 1, 2, 1, 1, 1, 1, 1, 1), (2, 1, 1, 2, 1, 1, 1, 1, 1, 1)  …  (1, 2, 1, 1, 2, 1, 1, 2, 2, 2), (1, 1, 2, 1, 2, 1, 1, 2, 2, 2), (1, 2, 2, 1, 2, 1, 1, 2, 2, 2), (1, 1, 1, 2, 2, 1, 1, 2, 2, 2), (1, 2, 1, 2, 2, 1, 1, 2, 2, 2), (1, 1, 1, 1, 1, 2, 1, 2, 2, 2), (1, 2, 1, 1, 1, 2, 1, 2, 2, 2), (1, 1, 1, 1, 2, 2, 1, 2, 2, 2), (1, 1, 1, 1, 1, 1, 2, 2, 2, 2), (1, 2, 1, 1, 1, 1, 2, 2, 2, 2)], [1, 2, 3, 4, 5, 6, 7, 8, 9, 10  …  503, 504, 505, 506, 507, 508, 509, 510, 511, 512], 0, [1, 2, 3, 4, 5, 6, 7, 8, 9, 10  …  503, 504, 505, 506, 507, 508, 509, 510, 511, 512], State{Int64}(512), Tree(Node(Stack{AbstractNodeValue}(Deque [AbstractNodeValue[]])), Stack{Node}(Deque [Node[]]))), State{Bool}(false), Tree(Node(Stack{AbstractNodeValue}(Deque [AbstractNodeValue[]])), Stack{Node}(Deque [Node[]]))), Bool[1 1 … 1 1; 0 0 … 0 0]), ConstraintMatrix(Variable(\"sum_weight\", TupleDomain(Tuple[(1, 1, 1, 1, 1, 1, 1, 1, 1, 1), (2, 1, 1, 1, 1, 1, 1, 1, 1, 1), (1, 2, 1, 1, 1, 1, 1, 1, 1, 1), (2, 2, 1, 1, 1, 1, 1, 1, 1, 1), (1, 1, 2, 1, 1, 1, 1, 1, 1, 1), (2, 1, 2, 1, 1, 1, 1, 1, 1, 1), (1, 2, 2, 1, 1, 1, 1, 1, 1, 1), (2, 2, 2, 1, 1, 1, 1, 1, 1, 1), (1, 1, 1, 2, 1, 1, 1, 1, 1, 1), (2, 1, 1, 2, 1, 1, 1, 1, 1, 1)  …  (1, 2, 1, 1, 2, 1, 1, 2, 2, 2), (1, 1, 2, 1, 2, 1, 1, 2, 2, 2), (1, 2, 2, 1, 2, 1, 1, 2, 2, 2), (1, 1, 1, 2, 2, 1, 1, 2, 2, 2), (1, 2, 1, 2, 2, 1, 1, 2, 2, 2), (1, 1, 1, 1, 1, 2, 1, 2, 2, 2), (1, 2, 1, 1, 1, 2, 1, 2, 2, 2), (1, 1, 1, 1, 2, 2, 1, 2, 2, 2), (1, 1, 1, 1, 1, 1, 2, 2, 2, 2), (1, 2, 1, 1, 1, 1, 2, 2, 2, 2)], [1, 2, 3, 4, 5, 6, 7, 8, 9, 10  …  503, 504, 505, 506, 507, 508, 509, 510, 511, 512], 0, [1, 2, 3, 4, 5, 6, 7, 8, 9, 10  …  503, 504, 505, 506, 507, 508, 509, 510, 511, 512], State{Int64}(512), Tree(Node(Stack{AbstractNodeValue}(Deque [AbstractNodeValue[]])), Stack{Node}(Deque [Node[]]))), State{Bool}(false), Tree(Node(Stack{AbstractNodeValue}(Deque [AbstractNodeValue[]])), Stack{Node}(Deque [Node[]]))), Variable(\"x[4]\", Domain([1, 2], -1, [1, 2], State{Int64}(2), Tree(Node(Stack{AbstractNodeValue}(Deque [AbstractNodeValue[]])), Stack{Node}(Deque [Node[]]))), State{Bool}(false), Tree(Node(Stack{AbstractNodeValue}(Deque [AbstractNodeValue[]])), Stack{Node}(Deque [Node[]]))), Bool[1 0; 1 0; … ; 1 0; 1 0]), ConstraintMatrix(Variable(\"x[5]\", Domain([1, 2], -1, [1, 2], State{Int64}(2), Tree(Node(Stack{AbstractNodeValue}(Deque [AbstractNodeValue[]])), Stack{Node}(Deque [Node[]]))), State{Bool}(false), Tree(Node(Stack{AbstractNodeValue}(Deque [AbstractNodeValue[]])), Stack{Node}(Deque [Node[]]))), Variable(\"sum_weight\", TupleDomain(Tuple[(1, 1, 1, 1, 1, 1, 1, 1, 1, 1), (2, 1, 1, 1, 1, 1, 1, 1, 1, 1), (1, 2, 1, 1, 1, 1, 1, 1, 1, 1), (2, 2, 1, 1, 1, 1, 1, 1, 1, 1), (1, 1, 2, 1, 1, 1, 1, 1, 1, 1), (2, 1, 2, 1, 1, 1, 1, 1, 1, 1), (1, 2, 2, 1, 1, 1, 1, 1, 1, 1), (2, 2, 2, 1, 1, 1, 1, 1, 1, 1), (1, 1, 1, 2, 1, 1, 1, 1, 1, 1), (2, 1, 1, 2, 1, 1, 1, 1, 1, 1)  …  (1, 2, 1, 1, 2, 1, 1, 2, 2, 2), (1, 1, 2, 1, 2, 1, 1, 2, 2, 2), (1, 2, 2, 1, 2, 1, 1, 2, 2, 2), (1, 1, 1, 2, 2, 1, 1, 2, 2, 2), (1, 2, 1, 2, 2, 1, 1, 2, 2, 2), (1, 1, 1, 1, 1, 2, 1, 2, 2, 2), (1, 2, 1, 1, 1, 2, 1, 2, 2, 2), (1, 1, 1, 1, 2, 2, 1, 2, 2, 2), (1, 1, 1, 1, 1, 1, 2, 2, 2, 2), (1, 2, 1, 1, 1, 1, 2, 2, 2, 2)], [1, 2, 3, 4, 5, 6, 7, 8, 9, 10  …  503, 504, 505, 506, 507, 508, 509, 510, 511, 512], 0, [1, 2, 3, 4, 5, 6, 7, 8, 9, 10  …  503, 504, 505, 506, 507, 508, 509, 510, 511, 512], State{Int64}(512), Tree(Node(Stack{AbstractNodeValue}(Deque [AbstractNodeValue[]])), Stack{Node}(Deque [Node[]]))), State{Bool}(false), Tree(Node(Stack{AbstractNodeValue}(Deque [AbstractNodeValue[]])), Stack{Node}(Deque [Node[]]))), Bool[1 1 … 1 1; 0 0 … 0 0]), ConstraintMatrix(Variable(\"sum_weight\", TupleDomain(Tuple[(1, 1, 1, 1, 1, 1, 1, 1, 1, 1), (2, 1, 1, 1, 1, 1, 1, 1, 1, 1), (1, 2, 1, 1, 1, 1, 1, 1, 1, 1), (2, 2, 1, 1, 1, 1, 1, 1, 1, 1), (1, 1, 2, 1, 1, 1, 1, 1, 1, 1), (2, 1, 2, 1, 1, 1, 1, 1, 1, 1), (1, 2, 2, 1, 1, 1, 1, 1, 1, 1), (2, 2, 2, 1, 1, 1, 1, 1, 1, 1), (1, 1, 1, 2, 1, 1, 1, 1, 1, 1), (2, 1, 1, 2, 1, 1, 1, 1, 1, 1)  …  (1, 2, 1, 1, 2, 1, 1, 2, 2, 2), (1, 1, 2, 1, 2, 1, 1, 2, 2, 2), (1, 2, 2, 1, 2, 1, 1, 2, 2, 2), (1, 1, 1, 2, 2, 1, 1, 2, 2, 2), (1, 2, 1, 2, 2, 1, 1, 2, 2, 2), (1, 1, 1, 1, 1, 2, 1, 2, 2, 2), (1, 2, 1, 1, 1, 2, 1, 2, 2, 2), (1, 1, 1, 1, 2, 2, 1, 2, 2, 2), (1, 1, 1, 1, 1, 1, 2, 2, 2, 2), (1, 2, 1, 1, 1, 1, 2, 2, 2, 2)], [1, 2, 3, 4, 5, 6, 7, 8, 9, 10  …  503, 504, 505, 506, 507, 508, 509, 510, 511, 512], 0, [1, 2, 3, 4, 5, 6, 7, 8, 9, 10  …  503, 504, 505, 506, 507, 508, 509, 510, 511, 512], State{Int64}(512), Tree(Node(Stack{AbstractNodeValue}(Deque [AbstractNodeValue[]])), Stack{Node}(Deque [Node[]]))), State{Bool}(false), Tree(Node(Stack{AbstractNodeValue}(Deque [AbstractNodeValue[]])), Stack{Node}(Deque [Node[]]))), Variable(\"x[5]\", Domain([1, 2], -1, [1, 2], State{Int64}(2), Tree(Node(Stack{AbstractNodeValue}(Deque [AbstractNodeValue[]])), Stack{Node}(Deque [Node[]]))), State{Bool}(false), Tree(Node(Stack{AbstractNodeValue}(Deque [AbstractNodeValue[]])), Stack{Node}(Deque [Node[]]))), Bool[1 0; 1 0; … ; 1 0; 1 0])  …  ConstraintMatrix(Variable(\"x[6]\", Domain([1, 2], -1, [1, 2], State{Int64}(2), Tree(Node(Stack{AbstractNodeValue}(Deque [AbstractNodeValue[]])), Stack{Node}(Deque [Node[]]))), State{Bool}(false), Tree(Node(Stack{AbstractNodeValue}(Deque [AbstractNodeValue[]])), Stack{Node}(Deque [Node[]]))), Variable(\"sum_utility\", TupleDomain(Tuple[(2, 1, 2, 1, 1, 2, 1, 2, 2, 1), (2, 2, 2, 1, 1, 2, 1, 2, 2, 1), (2, 1, 2, 2, 1, 2, 1, 2, 2, 1), (2, 2, 2, 2, 1, 2, 1, 2, 2, 1), (2, 1, 2, 1, 2, 2, 1, 2, 2, 1), (2, 2, 2, 1, 2, 2, 1, 2, 2, 1), (2, 1, 2, 2, 2, 2, 1, 2, 2, 1), (2, 2, 2, 2, 2, 2, 1, 2, 2, 1), (2, 1, 2, 1, 1, 2, 2, 2, 2, 1), (2, 2, 2, 1, 1, 2, 2, 2, 2, 1)  …  (1, 2, 2, 1, 2, 2, 2, 2, 2, 2), (2, 2, 2, 1, 2, 2, 2, 2, 2, 2), (1, 1, 1, 2, 2, 2, 2, 2, 2, 2), (2, 1, 1, 2, 2, 2, 2, 2, 2, 2), (1, 2, 1, 2, 2, 2, 2, 2, 2, 2), (2, 2, 1, 2, 2, 2, 2, 2, 2, 2), (1, 1, 2, 2, 2, 2, 2, 2, 2, 2), (2, 1, 2, 2, 2, 2, 2, 2, 2, 2), (1, 2, 2, 2, 2, 2, 2, 2, 2, 2), (2, 2, 2, 2, 2, 2, 2, 2, 2, 2)], [1, 2, 3, 4, 5, 6, 7, 8, 9, 10  …  142, 143, 144, 145, 146, 147, 148, 149, 150, 151], 0, [1, 2, 3, 4, 5, 6, 7, 8, 9, 10  …  142, 143, 144, 145, 146, 147, 148, 149, 150, 151], State{Int64}(151), Tree(Node(Stack{AbstractNodeValue}(Deque [AbstractNodeValue[]])), Stack{Node}(Deque [Node[]]))), State{Bool}(false), Tree(Node(Stack{AbstractNodeValue}(Deque [AbstractNodeValue[]])), Stack{Node}(Deque [Node[]]))), Bool[0 0 … 0 0; 1 1 … 1 1]), ConstraintMatrix(Variable(\"sum_utility\", TupleDomain(Tuple[(2, 1, 2, 1, 1, 2, 1, 2, 2, 1), (2, 2, 2, 1, 1, 2, 1, 2, 2, 1), (2, 1, 2, 2, 1, 2, 1, 2, 2, 1), (2, 2, 2, 2, 1, 2, 1, 2, 2, 1), (2, 1, 2, 1, 2, 2, 1, 2, 2, 1), (2, 2, 2, 1, 2, 2, 1, 2, 2, 1), (2, 1, 2, 2, 2, 2, 1, 2, 2, 1), (2, 2, 2, 2, 2, 2, 1, 2, 2, 1), (2, 1, 2, 1, 1, 2, 2, 2, 2, 1), (2, 2, 2, 1, 1, 2, 2, 2, 2, 1)  …  (1, 2, 2, 1, 2, 2, 2, 2, 2, 2), (2, 2, 2, 1, 2, 2, 2, 2, 2, 2), (1, 1, 1, 2, 2, 2, 2, 2, 2, 2), (2, 1, 1, 2, 2, 2, 2, 2, 2, 2), (1, 2, 1, 2, 2, 2, 2, 2, 2, 2), (2, 2, 1, 2, 2, 2, 2, 2, 2, 2), (1, 1, 2, 2, 2, 2, 2, 2, 2, 2), (2, 1, 2, 2, 2, 2, 2, 2, 2, 2), (1, 2, 2, 2, 2, 2, 2, 2, 2, 2), (2, 2, 2, 2, 2, 2, 2, 2, 2, 2)], [1, 2, 3, 4, 5, 6, 7, 8, 9, 10  …  142, 143, 144, 145, 146, 147, 148, 149, 150, 151], 0, [1, 2, 3, 4, 5, 6, 7, 8, 9, 10  …  142, 143, 144, 145, 146, 147, 148, 149, 150, 151], State{Int64}(151), Tree(Node(Stack{AbstractNodeValue}(Deque [AbstractNodeValue[]])), Stack{Node}(Deque [Node[]]))), State{Bool}(false), Tree(Node(Stack{AbstractNodeValue}(Deque [AbstractNodeValue[]])), Stack{Node}(Deque [Node[]]))), Variable(\"x[6]\", Domain([1, 2], -1, [1, 2], State{Int64}(2), Tree(Node(Stack{AbstractNodeValue}(Deque [AbstractNodeValue[]])), Stack{Node}(Deque [Node[]]))), State{Bool}(false), Tree(Node(Stack{AbstractNodeValue}(Deque [AbstractNodeValue[]])), Stack{Node}(Deque [Node[]]))), Bool[0 1; 0 1; … ; 0 1; 0 1]), ConstraintMatrix(Variable(\"x[7]\", Domain([1, 2], -1, [1, 2], State{Int64}(2), Tree(Node(Stack{AbstractNodeValue}(Deque [AbstractNodeValue[]])), Stack{Node}(Deque [Node[]]))), State{Bool}(false), Tree(Node(Stack{AbstractNodeValue}(Deque [AbstractNodeValue[]])), Stack{Node}(Deque [Node[]]))), Variable(\"sum_utility\", TupleDomain(Tuple[(2, 1, 2, 1, 1, 2, 1, 2, 2, 1), (2, 2, 2, 1, 1, 2, 1, 2, 2, 1), (2, 1, 2, 2, 1, 2, 1, 2, 2, 1), (2, 2, 2, 2, 1, 2, 1, 2, 2, 1), (2, 1, 2, 1, 2, 2, 1, 2, 2, 1), (2, 2, 2, 1, 2, 2, 1, 2, 2, 1), (2, 1, 2, 2, 2, 2, 1, 2, 2, 1), (2, 2, 2, 2, 2, 2, 1, 2, 2, 1), (2, 1, 2, 1, 1, 2, 2, 2, 2, 1), (2, 2, 2, 1, 1, 2, 2, 2, 2, 1)  …  (1, 2, 2, 1, 2, 2, 2, 2, 2, 2), (2, 2, 2, 1, 2, 2, 2, 2, 2, 2), (1, 1, 1, 2, 2, 2, 2, 2, 2, 2), (2, 1, 1, 2, 2, 2, 2, 2, 2, 2), (1, 2, 1, 2, 2, 2, 2, 2, 2, 2), (2, 2, 1, 2, 2, 2, 2, 2, 2, 2), (1, 1, 2, 2, 2, 2, 2, 2, 2, 2), (2, 1, 2, 2, 2, 2, 2, 2, 2, 2), (1, 2, 2, 2, 2, 2, 2, 2, 2, 2), (2, 2, 2, 2, 2, 2, 2, 2, 2, 2)], [1, 2, 3, 4, 5, 6, 7, 8, 9, 10  …  142, 143, 144, 145, 146, 147, 148, 149, 150, 151], 0, [1, 2, 3, 4, 5, 6, 7, 8, 9, 10  …  142, 143, 144, 145, 146, 147, 148, 149, 150, 151], State{Int64}(151), Tree(Node(Stack{AbstractNodeValue}(Deque [AbstractNodeValue[]])), Stack{Node}(Deque [Node[]]))), State{Bool}(false), Tree(Node(Stack{AbstractNodeValue}(Deque [AbstractNodeValue[]])), Stack{Node}(Deque [Node[]]))), Bool[1 1 … 0 0; 0 0 … 1 1]), ConstraintMatrix(Variable(\"sum_utility\", TupleDomain(Tuple[(2, 1, 2, 1, 1, 2, 1, 2, 2, 1), (2, 2, 2, 1, 1, 2, 1, 2, 2, 1), (2, 1, 2, 2, 1, 2, 1, 2, 2, 1), (2, 2, 2, 2, 1, 2, 1, 2, 2, 1), (2, 1, 2, 1, 2, 2, 1, 2, 2, 1), (2, 2, 2, 1, 2, 2, 1, 2, 2, 1), (2, 1, 2, 2, 2, 2, 1, 2, 2, 1), (2, 2, 2, 2, 2, 2, 1, 2, 2, 1), (2, 1, 2, 1, 1, 2, 2, 2, 2, 1), (2, 2, 2, 1, 1, 2, 2, 2, 2, 1)  …  (1, 2, 2, 1, 2, 2, 2, 2, 2, 2), (2, 2, 2, 1, 2, 2, 2, 2, 2, 2), (1, 1, 1, 2, 2, 2, 2, 2, 2, 2), (2, 1, 1, 2, 2, 2, 2, 2, 2, 2), (1, 2, 1, 2, 2, 2, 2, 2, 2, 2), (2, 2, 1, 2, 2, 2, 2, 2, 2, 2), (1, 1, 2, 2, 2, 2, 2, 2, 2, 2), (2, 1, 2, 2, 2, 2, 2, 2, 2, 2), (1, 2, 2, 2, 2, 2, 2, 2, 2, 2), (2, 2, 2, 2, 2, 2, 2, 2, 2, 2)], [1, 2, 3, 4, 5, 6, 7, 8, 9, 10  …  142, 143, 144, 145, 146, 147, 148, 149, 150, 151], 0, [1, 2, 3, 4, 5, 6, 7, 8, 9, 10  …  142, 143, 144, 145, 146, 147, 148, 149, 150, 151], State{Int64}(151), Tree(Node(Stack{AbstractNodeValue}(Deque [AbstractNodeValue[]])), Stack{Node}(Deque [Node[]]))), State{Bool}(false), Tree(Node(Stack{AbstractNodeValue}(Deque [AbstractNodeValue[]])), Stack{Node}(Deque [Node[]]))), Variable(\"x[7]\", Domain([1, 2], -1, [1, 2], State{Int64}(2), Tree(Node(Stack{AbstractNodeValue}(Deque [AbstractNodeValue[]])), Stack{Node}(Deque [Node[]]))), State{Bool}(false), Tree(Node(Stack{AbstractNodeValue}(Deque [AbstractNodeValue[]])), Stack{Node}(Deque [Node[]]))), Bool[1 0; 1 0; … ; 0 1; 0 1]), ConstraintMatrix(Variable(\"x[8]\", Domain([1, 2], -1, [1, 2], State{Int64}(2), Tree(Node(Stack{AbstractNodeValue}(Deque [AbstractNodeValue[]])), Stack{Node}(Deque [Node[]]))), State{Bool}(false), Tree(Node(Stack{AbstractNodeValue}(Deque [AbstractNodeValue[]])), Stack{Node}(Deque [Node[]]))), Variable(\"sum_utility\", TupleDomain(Tuple[(2, 1, 2, 1, 1, 2, 1, 2, 2, 1), (2, 2, 2, 1, 1, 2, 1, 2, 2, 1), (2, 1, 2, 2, 1, 2, 1, 2, 2, 1), (2, 2, 2, 2, 1, 2, 1, 2, 2, 1), (2, 1, 2, 1, 2, 2, 1, 2, 2, 1), (2, 2, 2, 1, 2, 2, 1, 2, 2, 1), (2, 1, 2, 2, 2, 2, 1, 2, 2, 1), (2, 2, 2, 2, 2, 2, 1, 2, 2, 1), (2, 1, 2, 1, 1, 2, 2, 2, 2, 1), (2, 2, 2, 1, 1, 2, 2, 2, 2, 1)  …  (1, 2, 2, 1, 2, 2, 2, 2, 2, 2), (2, 2, 2, 1, 2, 2, 2, 2, 2, 2), (1, 1, 1, 2, 2, 2, 2, 2, 2, 2), (2, 1, 1, 2, 2, 2, 2, 2, 2, 2), (1, 2, 1, 2, 2, 2, 2, 2, 2, 2), (2, 2, 1, 2, 2, 2, 2, 2, 2, 2), (1, 1, 2, 2, 2, 2, 2, 2, 2, 2), (2, 1, 2, 2, 2, 2, 2, 2, 2, 2), (1, 2, 2, 2, 2, 2, 2, 2, 2, 2), (2, 2, 2, 2, 2, 2, 2, 2, 2, 2)], [1, 2, 3, 4, 5, 6, 7, 8, 9, 10  …  142, 143, 144, 145, 146, 147, 148, 149, 150, 151], 0, [1, 2, 3, 4, 5, 6, 7, 8, 9, 10  …  142, 143, 144, 145, 146, 147, 148, 149, 150, 151], State{Int64}(151), Tree(Node(Stack{AbstractNodeValue}(Deque [AbstractNodeValue[]])), Stack{Node}(Deque [Node[]]))), State{Bool}(false), Tree(Node(Stack{AbstractNodeValue}(Deque [AbstractNodeValue[]])), Stack{Node}(Deque [Node[]]))), Bool[0 0 … 0 0; 1 1 … 1 1]), ConstraintMatrix(Variable(\"sum_utility\", TupleDomain(Tuple[(2, 1, 2, 1, 1, 2, 1, 2, 2, 1), (2, 2, 2, 1, 1, 2, 1, 2, 2, 1), (2, 1, 2, 2, 1, 2, 1, 2, 2, 1), (2, 2, 2, 2, 1, 2, 1, 2, 2, 1), (2, 1, 2, 1, 2, 2, 1, 2, 2, 1), (2, 2, 2, 1, 2, 2, 1, 2, 2, 1), (2, 1, 2, 2, 2, 2, 1, 2, 2, 1), (2, 2, 2, 2, 2, 2, 1, 2, 2, 1), (2, 1, 2, 1, 1, 2, 2, 2, 2, 1), (2, 2, 2, 1, 1, 2, 2, 2, 2, 1)  …  (1, 2, 2, 1, 2, 2, 2, 2, 2, 2), (2, 2, 2, 1, 2, 2, 2, 2, 2, 2), (1, 1, 1, 2, 2, 2, 2, 2, 2, 2), (2, 1, 1, 2, 2, 2, 2, 2, 2, 2), (1, 2, 1, 2, 2, 2, 2, 2, 2, 2), (2, 2, 1, 2, 2, 2, 2, 2, 2, 2), (1, 1, 2, 2, 2, 2, 2, 2, 2, 2), (2, 1, 2, 2, 2, 2, 2, 2, 2, 2), (1, 2, 2, 2, 2, 2, 2, 2, 2, 2), (2, 2, 2, 2, 2, 2, 2, 2, 2, 2)], [1, 2, 3, 4, 5, 6, 7, 8, 9, 10  …  142, 143, 144, 145, 146, 147, 148, 149, 150, 151], 0, [1, 2, 3, 4, 5, 6, 7, 8, 9, 10  …  142, 143, 144, 145, 146, 147, 148, 149, 150, 151], State{Int64}(151), Tree(Node(Stack{AbstractNodeValue}(Deque [AbstractNodeValue[]])), Stack{Node}(Deque [Node[]]))), State{Bool}(false), Tree(Node(Stack{AbstractNodeValue}(Deque [AbstractNodeValue[]])), Stack{Node}(Deque [Node[]]))), Variable(\"x[8]\", Domain([1, 2], -1, [1, 2], State{Int64}(2), Tree(Node(Stack{AbstractNodeValue}(Deque [AbstractNodeValue[]])), Stack{Node}(Deque [Node[]]))), State{Bool}(false), Tree(Node(Stack{AbstractNodeValue}(Deque [AbstractNodeValue[]])), Stack{Node}(Deque [Node[]]))), Bool[0 1; 0 1; … ; 0 1; 0 1]), ConstraintMatrix(Variable(\"x[9]\", Domain([1, 2], -1, [1, 2], State{Int64}(2), Tree(Node(Stack{AbstractNodeValue}(Deque [AbstractNodeValue[]])), Stack{Node}(Deque [Node[]]))), State{Bool}(false), Tree(Node(Stack{AbstractNodeValue}(Deque [AbstractNodeValue[]])), Stack{Node}(Deque [Node[]]))), Variable(\"sum_utility\", TupleDomain(Tuple[(2, 1, 2, 1, 1, 2, 1, 2, 2, 1), (2, 2, 2, 1, 1, 2, 1, 2, 2, 1), (2, 1, 2, 2, 1, 2, 1, 2, 2, 1), (2, 2, 2, 2, 1, 2, 1, 2, 2, 1), (2, 1, 2, 1, 2, 2, 1, 2, 2, 1), (2, 2, 2, 1, 2, 2, 1, 2, 2, 1), (2, 1, 2, 2, 2, 2, 1, 2, 2, 1), (2, 2, 2, 2, 2, 2, 1, 2, 2, 1), (2, 1, 2, 1, 1, 2, 2, 2, 2, 1), (2, 2, 2, 1, 1, 2, 2, 2, 2, 1)  …  (1, 2, 2, 1, 2, 2, 2, 2, 2, 2), (2, 2, 2, 1, 2, 2, 2, 2, 2, 2), (1, 1, 1, 2, 2, 2, 2, 2, 2, 2), (2, 1, 1, 2, 2, 2, 2, 2, 2, 2), (1, 2, 1, 2, 2, 2, 2, 2, 2, 2), (2, 2, 1, 2, 2, 2, 2, 2, 2, 2), (1, 1, 2, 2, 2, 2, 2, 2, 2, 2), (2, 1, 2, 2, 2, 2, 2, 2, 2, 2), (1, 2, 2, 2, 2, 2, 2, 2, 2, 2), (2, 2, 2, 2, 2, 2, 2, 2, 2, 2)], [1, 2, 3, 4, 5, 6, 7, 8, 9, 10  …  142, 143, 144, 145, 146, 147, 148, 149, 150, 151], 0, [1, 2, 3, 4, 5, 6, 7, 8, 9, 10  …  142, 143, 144, 145, 146, 147, 148, 149, 150, 151], State{Int64}(151), Tree(Node(Stack{AbstractNodeValue}(Deque [AbstractNodeValue[]])), Stack{Node}(Deque [Node[]]))), State{Bool}(false), Tree(Node(Stack{AbstractNodeValue}(Deque [AbstractNodeValue[]])), Stack{Node}(Deque [Node[]]))), Bool[0 0 … 0 0; 1 1 … 1 1]), ConstraintMatrix(Variable(\"sum_utility\", TupleDomain(Tuple[(2, 1, 2, 1, 1, 2, 1, 2, 2, 1), (2, 2, 2, 1, 1, 2, 1, 2, 2, 1), (2, 1, 2, 2, 1, 2, 1, 2, 2, 1), (2, 2, 2, 2, 1, 2, 1, 2, 2, 1), (2, 1, 2, 1, 2, 2, 1, 2, 2, 1), (2, 2, 2, 1, 2, 2, 1, 2, 2, 1), (2, 1, 2, 2, 2, 2, 1, 2, 2, 1), (2, 2, 2, 2, 2, 2, 1, 2, 2, 1), (2, 1, 2, 1, 1, 2, 2, 2, 2, 1), (2, 2, 2, 1, 1, 2, 2, 2, 2, 1)  …  (1, 2, 2, 1, 2, 2, 2, 2, 2, 2), (2, 2, 2, 1, 2, 2, 2, 2, 2, 2), (1, 1, 1, 2, 2, 2, 2, 2, 2, 2), (2, 1, 1, 2, 2, 2, 2, 2, 2, 2), (1, 2, 1, 2, 2, 2, 2, 2, 2, 2), (2, 2, 1, 2, 2, 2, 2, 2, 2, 2), (1, 1, 2, 2, 2, 2, 2, 2, 2, 2), (2, 1, 2, 2, 2, 2, 2, 2, 2, 2), (1, 2, 2, 2, 2, 2, 2, 2, 2, 2), (2, 2, 2, 2, 2, 2, 2, 2, 2, 2)], [1, 2, 3, 4, 5, 6, 7, 8, 9, 10  …  142, 143, 144, 145, 146, 147, 148, 149, 150, 151], 0, [1, 2, 3, 4, 5, 6, 7, 8, 9, 10  …  142, 143, 144, 145, 146, 147, 148, 149, 150, 151], State{Int64}(151), Tree(Node(Stack{AbstractNodeValue}(Deque [AbstractNodeValue[]])), Stack{Node}(Deque [Node[]]))), State{Bool}(false), Tree(Node(Stack{AbstractNodeValue}(Deque [AbstractNodeValue[]])), Stack{Node}(Deque [Node[]]))), Variable(\"x[9]\", Domain([1, 2], -1, [1, 2], State{Int64}(2), Tree(Node(Stack{AbstractNodeValue}(Deque [AbstractNodeValue[]])), Stack{Node}(Deque [Node[]]))), State{Bool}(false), Tree(Node(Stack{AbstractNodeValue}(Deque [AbstractNodeValue[]])), Stack{Node}(Deque [Node[]]))), Bool[0 1; 0 1; … ; 0 1; 0 1]), ConstraintMatrix(Variable(\"x[10]\", Domain([1, 2], -1, [1, 2], State{Int64}(2), Tree(Node(Stack{AbstractNodeValue}(Deque [AbstractNodeValue[]])), Stack{Node}(Deque [Node[]]))), State{Bool}(false), Tree(Node(Stack{AbstractNodeValue}(Deque [AbstractNodeValue[]])), Stack{Node}(Deque [Node[]]))), Variable(\"sum_utility\", TupleDomain(Tuple[(2, 1, 2, 1, 1, 2, 1, 2, 2, 1), (2, 2, 2, 1, 1, 2, 1, 2, 2, 1), (2, 1, 2, 2, 1, 2, 1, 2, 2, 1), (2, 2, 2, 2, 1, 2, 1, 2, 2, 1), (2, 1, 2, 1, 2, 2, 1, 2, 2, 1), (2, 2, 2, 1, 2, 2, 1, 2, 2, 1), (2, 1, 2, 2, 2, 2, 1, 2, 2, 1), (2, 2, 2, 2, 2, 2, 1, 2, 2, 1), (2, 1, 2, 1, 1, 2, 2, 2, 2, 1), (2, 2, 2, 1, 1, 2, 2, 2, 2, 1)  …  (1, 2, 2, 1, 2, 2, 2, 2, 2, 2), (2, 2, 2, 1, 2, 2, 2, 2, 2, 2), (1, 1, 1, 2, 2, 2, 2, 2, 2, 2), (2, 1, 1, 2, 2, 2, 2, 2, 2, 2), (1, 2, 1, 2, 2, 2, 2, 2, 2, 2), (2, 2, 1, 2, 2, 2, 2, 2, 2, 2), (1, 1, 2, 2, 2, 2, 2, 2, 2, 2), (2, 1, 2, 2, 2, 2, 2, 2, 2, 2), (1, 2, 2, 2, 2, 2, 2, 2, 2, 2), (2, 2, 2, 2, 2, 2, 2, 2, 2, 2)], [1, 2, 3, 4, 5, 6, 7, 8, 9, 10  …  142, 143, 144, 145, 146, 147, 148, 149, 150, 151], 0, [1, 2, 3, 4, 5, 6, 7, 8, 9, 10  …  142, 143, 144, 145, 146, 147, 148, 149, 150, 151], State{Int64}(151), Tree(Node(Stack{AbstractNodeValue}(Deque [AbstractNodeValue[]])), Stack{Node}(Deque [Node[]]))), State{Bool}(false), Tree(Node(Stack{AbstractNodeValue}(Deque [AbstractNodeValue[]])), Stack{Node}(Deque [Node[]]))), Bool[1 1 … 0 0; 0 0 … 1 1]), ConstraintMatrix(Variable(\"sum_utility\", TupleDomain(Tuple[(2, 1, 2, 1, 1, 2, 1, 2, 2, 1), (2, 2, 2, 1, 1, 2, 1, 2, 2, 1), (2, 1, 2, 2, 1, 2, 1, 2, 2, 1), (2, 2, 2, 2, 1, 2, 1, 2, 2, 1), (2, 1, 2, 1, 2, 2, 1, 2, 2, 1), (2, 2, 2, 1, 2, 2, 1, 2, 2, 1), (2, 1, 2, 2, 2, 2, 1, 2, 2, 1), (2, 2, 2, 2, 2, 2, 1, 2, 2, 1), (2, 1, 2, 1, 1, 2, 2, 2, 2, 1), (2, 2, 2, 1, 1, 2, 2, 2, 2, 1)  …  (1, 2, 2, 1, 2, 2, 2, 2, 2, 2), (2, 2, 2, 1, 2, 2, 2, 2, 2, 2), (1, 1, 1, 2, 2, 2, 2, 2, 2, 2), (2, 1, 1, 2, 2, 2, 2, 2, 2, 2), (1, 2, 1, 2, 2, 2, 2, 2, 2, 2), (2, 2, 1, 2, 2, 2, 2, 2, 2, 2), (1, 1, 2, 2, 2, 2, 2, 2, 2, 2), (2, 1, 2, 2, 2, 2, 2, 2, 2, 2), (1, 2, 2, 2, 2, 2, 2, 2, 2, 2), (2, 2, 2, 2, 2, 2, 2, 2, 2, 2)], [1, 2, 3, 4, 5, 6, 7, 8, 9, 10  …  142, 143, 144, 145, 146, 147, 148, 149, 150, 151], 0, [1, 2, 3, 4, 5, 6, 7, 8, 9, 10  …  142, 143, 144, 145, 146, 147, 148, 149, 150, 151], State{Int64}(151), Tree(Node(Stack{AbstractNodeValue}(Deque [AbstractNodeValue[]])), Stack{Node}(Deque [Node[]]))), State{Bool}(false), Tree(Node(Stack{AbstractNodeValue}(Deque [AbstractNodeValue[]])), Stack{Node}(Deque [Node[]]))), Variable(\"x[10]\", Domain([1, 2], -1, [1, 2], State{Int64}(2), Tree(Node(Stack{AbstractNodeValue}(Deque [AbstractNodeValue[]])), Stack{Node}(Deque [Node[]]))), State{Bool}(false), Tree(Node(Stack{AbstractNodeValue}(Deque [AbstractNodeValue[]])), Stack{Node}(Deque [Node[]]))), Bool[1 0; 1 0; … ; 0 1; 0 1])], nothing, Tree(Node(Stack{AbstractNodeValue}(Deque [AbstractNodeValue[]])), Stack{Node}(Deque [Node[]])))"
      ]
     },
     "metadata": {},
     "output_type": "display_data"
    }
   ],
   "source": [
    "n, wmax, object_utilities, object_weights = parse_knapsack(filepath)\n",
    "ConstraintType = ConstraintMatrix\n",
    "model = knapsack(filepath, k, ConstraintType)"
   ]
  },
  {
   "cell_type": "markdown",
   "metadata": {},
   "source": [
    "## 3. Search strategies"
   ]
  },
  {
   "cell_type": "code",
   "execution_count": 27,
   "metadata": {},
   "outputs": [
    {
     "data": {
      "text/plain": [
       "ForwardChecking()"
      ]
     },
     "metadata": {},
     "output_type": "display_data"
    }
   ],
   "source": [
    "variableSelection = KnapsackVariableSelection(object_weights, object_utilities, model)\n",
    "valueSelection = MaxDomainValueSelection()\n",
    "AC = nothing\n",
    "FC = ForwardChecking()"
   ]
  },
  {
   "cell_type": "markdown",
   "metadata": {},
   "source": [
    "## 4. Launch search"
   ]
  },
  {
   "cell_type": "code",
   "execution_count": 28,
   "metadata": {},
   "outputs": [
    {
     "data": {
      "text/plain": [
       ":SolutionFound"
      ]
     },
     "metadata": {},
     "output_type": "display_data"
    }
   ],
   "source": [
    "search!(model, variableSelection, valueSelection, AC, FC)"
   ]
  },
  {
   "cell_type": "markdown",
   "metadata": {},
   "source": [
    "## 5. Display Solution"
   ]
  },
  {
   "cell_type": "code",
   "execution_count": 29,
   "metadata": {},
   "outputs": [
    {
     "data": {
      "text/plain": [
       "10-element Vector{Int64}:\n",
       " 0\n",
       " 1\n",
       " 1\n",
       " 1\n",
       " 0\n",
       " 0\n",
       " 0\n",
       " 1\n",
       " 1\n",
       " 1"
      ]
     },
     "metadata": {},
     "output_type": "display_data"
    }
   ],
   "source": [
    "solution = getSolutionVector(model)"
   ]
  }
 ],
 "metadata": {
  "kernelspec": {
   "display_name": "Julia 1.9.4",
   "language": "julia",
   "name": "julia-1.9"
  },
  "language_info": {
   "file_extension": ".jl",
   "mimetype": "application/julia",
   "name": "julia",
   "version": "1.9.4"
  }
 },
 "nbformat": 4,
 "nbformat_minor": 2
}
